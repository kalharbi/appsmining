{
 "metadata": {
  "name": "",
  "signature": "sha256:e0bbb9f2bee9886c0f7f2715615d32e16e123629b6604f7c16d51a2ec4605b42"
 },
 "nbformat": 3,
 "nbformat_minor": 0,
 "worksheets": [
  {
   "cells": [
    {
     "cell_type": "code",
     "collapsed": false,
     "input": [
      "from IPython.display import HTML\n",
      "h = HTML(\"\"\"<h1>Collect, Decompile, Extract, Stat, and Diff: Mining Design Pattern Changes at the Framework Level</h1>\n",
      "         <p>This notebook includes the source code and the output results for all the examples discussed in the paper.</p>\"\"\");h"
     ],
     "language": "python",
     "metadata": {},
     "outputs": [
      {
       "html": [
        "<h1>Collect, Decompile, Extract, Stat, and Diff: Mining Design Pattern Changes at the Framework Level</h1>\n",
        "         <p>This notebook includes the source code and the output results for all the examples discussed in the paper.</p>"
       ],
       "metadata": {},
       "output_type": "pyout",
       "prompt_number": 55,
       "text": [
        "<IPython.core.display.HTML at 0x108a0fcd0>"
       ]
      }
     ],
     "prompt_number": 55
    },
    {
     "cell_type": "code",
     "collapsed": false,
     "input": [
      "import pandas as pd\n",
      "import numpy as np\n",
      "import brewer2mpl\n",
      "from IPython.display import HTML\n",
      "%matplotlib inline"
     ],
     "language": "python",
     "metadata": {},
     "outputs": [],
     "prompt_number": 8
    },
    {
     "cell_type": "code",
     "collapsed": false,
     "input": [
      "def get_diff(dataframe, count_column_name, result_column_name):\n",
      "    print('|==================================================================|')\n",
      "    print('| The difference in ' + count_column_name + ' between multiple versions.|')\n",
      "    print('|==================================================================|')\n",
      "    # Get the first index name (package name)\n",
      "    first_index = dataframe.index.names[0]\n",
      "    df_result = pd.DataFrame(columns=[first_index, 'number_of_versions', result_column_name])\n",
      "    df_result.set_index(first_index, inplace =True)\n",
      "    for gp in dataframe.index.get_level_values(first_index).unique():\n",
      "        tmp_df = dataframe.loc[gp, count_column_name]\n",
      "        d = 0\n",
      "        if len(tmp_df) == 1:\n",
      "            d = 0\n",
      "        else:\n",
      "            for r in tmp_df:\n",
      "                d = r - d\n",
      "        df_result.ix[gp, result_column_name] = d\n",
      "        df_result.ix[gp, 'number_of_versions'] = len(tmp_df)\n",
      "    return df_result\n",
      "    \n",
      "def get_unique_diff(dataframe, count_column_name, result_column_name):\n",
      "    print('|==================================================================|')\n",
      "    print('| The difference in ' + count_column_name + ' between multiple versions.|')\n",
      "    print('|==================================================================|')\n",
      "    # Get the first index name (package name)\n",
      "    first_index = dataframe.index.names[0]\n",
      "    df_result = pd.DataFrame(columns=[first_index, 'number_of_versions', result_column_name])\n",
      "    df_result.set_index(first_index, inplace =True)\n",
      "    for gp in dataframe.index.get_level_values(first_index).unique():\n",
      "        tmp_df = dataframe.loc[gp, count_column_name]\n",
      "        d = 0\n",
      "        if len(tmp_df) == 1:\n",
      "            d = 0\n",
      "        else:\n",
      "            l = tmp_df.tolist()\n",
      "            d =  l[-1] - l[0]\n",
      "        df_result.ix[gp, result_column_name] = d\n",
      "        df_result.ix[gp, 'number_of_versions'] = len(tmp_df)\n",
      "    return df_result"
     ],
     "language": "python",
     "metadata": {},
     "outputs": [],
     "prompt_number": 9
    },
    {
     "cell_type": "code",
     "collapsed": false,
     "input": [
      "def find_usage_in_any_release(dataframe, column_feature, show_no_matches=False):\n",
      "    \"\"\"Returns a dataframe that contains the package,number of packages, and first version number of the supported feature.\n",
      "       Keyword arguments:\n",
      "       dataframe -- the original dataframe indexed using a hierarchical indexing of package and version_code)\n",
      "       column_feature -- the column name of a specific feature and must have boolean type values\n",
      "       show_no_matches -- Include results even if the app does not support this feature.\n",
      "       \"\"\"\n",
      "    # Get the first index name (package name)\n",
      "    first_index = dataframe.index.names[0]\n",
      "    result_column_name = column_feature + '_first_supported_version'\n",
      "    df_result = pd.DataFrame(columns=[first_index, 'available_versions', result_column_name])\n",
      "    df_result.set_index(first_index, inplace =True)\n",
      "    # Get a list of unique packages\n",
      "    packages = dataframe.index.get_level_values(first_index).unique()\n",
      "    for package in packages:\n",
      "        package_data_frame = dataframe.loc[package]\n",
      "        # Get a list of supported versions for this package\n",
      "        versions_list = package_data_frame[package_data_frame[column_feature]==True].index.tolist()\n",
      "        # Exclude no matches\n",
      "        if not versions_list and not show_no_matches:\n",
      "            continue\n",
      "        # Include no matches; use True or False\n",
      "        found = False\n",
      "        max_supported_version= np.NaN\n",
      "        if versions_list:\n",
      "            found = True\n",
      "            max_supported_version = min(versions_list)\n",
      "        # get the total number of available versions regardless of using this feature\n",
      "        versions_count = len(package_data_frame.index)\n",
      "        # only consider multiple versions\n",
      "        if(versions_count == 1):\n",
      "            continue\n",
      "        # Add the most total versions and the most recent supported version to the result dataframe\n",
      "        df_result.ix[package, 'available_versions'] = versions_count\n",
      "        if show_no_matches:\n",
      "            df_result.ix[package, 'support_this_feature'] = found\n",
      "        df_result.ix[package, result_column_name] = max_supported_version\n",
      "    return df_result"
     ],
     "language": "python",
     "metadata": {},
     "outputs": [],
     "prompt_number": 10
    },
    {
     "cell_type": "code",
     "collapsed": false,
     "input": [
      "\n",
      "def find_usage_in_any_release_n(dataframe, column_feature, show_no_matches=False, opposite=False):\n",
      "    \"\"\"Returns a dataframe that contains the package,number of packages, and first version number of the supported feature.\n",
      "       Keyword arguments:\n",
      "       dataframe -- the original dataframe indexed using a hierarchical indexing of package and version_code)\n",
      "       column_feature -- the column name of a specific feature and must have boolean type values\n",
      "       show_no_matches -- Include results even if the app does not support this feature.\n",
      "       \"\"\"\n",
      "    # Get the first index name (package name)\n",
      "    first_index = dataframe.index.names[0]\n",
      "    result_column_name = column_feature + '_first_supported_version'\n",
      "    df_result = pd.DataFrame(columns=[first_index, 'available_versions', result_column_name])\n",
      "    df_result.set_index(first_index, inplace =True)\n",
      "    # Get a list of unique packages\n",
      "    packages = dataframe.index.get_level_values(first_index).unique()\n",
      "    for package in packages:\n",
      "        package_data_frame = dataframe.loc[package]\n",
      "        # Get a list of supported versions for this package\n",
      "        versions_list = package_data_frame[package_data_frame[column_feature]>0].index.tolist()\n",
      "        if opposite:\n",
      "            versions_list = package_data_frame[package_data_frame[column_feature]==0].index.tolist()\n",
      "        # Exclude no matches\n",
      "        if not versions_list and not show_no_matches:\n",
      "            continue\n",
      "        # Include no matches; use True or False\n",
      "        found = False\n",
      "        max_supported_version= np.NaN\n",
      "        if versions_list:\n",
      "            found = True\n",
      "            max_supported_version = min(versions_list)\n",
      "        # get the total number of available versions regardless of using this feature\n",
      "        versions_count = len(package_data_frame.index)\n",
      "        # only consider multiple versions\n",
      "        if(versions_count == 1):\n",
      "            continue\n",
      "        # Add the most total versions and the most recent supported version to the result dataframe\n",
      "        df_result.ix[package, 'available_versions'] = versions_count\n",
      "        if show_no_matches:\n",
      "            df_result.ix[package, 'support_this_feature'] = found\n",
      "        df_result.ix[package, result_column_name] = max_supported_version\n",
      "    return df_result"
     ],
     "language": "python",
     "metadata": {},
     "outputs": [],
     "prompt_number": 11
    },
    {
     "cell_type": "code",
     "collapsed": false,
     "input": [
      "# How many apps have still used this feature in the latest release.\n",
      "def find_use_in_latest_release(dataframe, column_feature):\n",
      "    \"\"\"Returns a dataframe that contains the package,number of packages, and last version number of the supported feature.\n",
      "       Keyword arguments:\n",
      "       dataframe -- the original dataframe indexed using a hierarchical indexing of package and version_code)\n",
      "       column_feature -- the column name of a specific feature and must have boolean type values\n",
      "       \"\"\"\n",
      "    # Get the first index name (package name)\n",
      "    first_index = dataframe.index.names[0]\n",
      "    result_column_name = column_feature + '_use_in_latest_version'\n",
      "    df_result = pd.DataFrame(columns=[first_index, 'available_versions', result_column_name])\n",
      "    df_result.set_index(first_index, inplace =True)\n",
      "    # Get a list of unique packages\n",
      "    packages = dataframe.index.get_level_values(first_index).unique()\n",
      "    for package in packages:\n",
      "        package_data_frame = dataframe.loc[package]\n",
      "        # Get a list of supported versions for this package\n",
      "        supported_versions_list = package_data_frame[package_data_frame[column_feature]==True].index.tolist()\n",
      "        unsupported_versions_list = package_data_frame[package_data_frame[column_feature]==False].index.tolist()\n",
      "        # Exclude no matches\n",
      "        if supported_versions_list is None or unsupported_versions_list is None:\n",
      "            continue\n",
      "        if len(supported_versions_list) == 0:\n",
      "            continue\n",
      "        # compare the two version lists\n",
      "        try:\n",
      "            max_supported_ver = max(supported_versions_list)\n",
      "            max_unsupported_ver = max(unsupported_versions_list)\n",
      "        except ValueError:\n",
      "            pass\n",
      "        # if the latest version still supports the feature and has no unsupported versions\n",
      "        if(len(supported_versions_list) > 0 and len(unsupported_versions_list) == 0):\n",
      "            max_supported_ver = max(supported_versions_list)\n",
      "            max_unsupported_ver = -1000000\n",
      "       \n",
      "        # Include no matches; use True or False\n",
      "        found = False\n",
      "        # Return the first adopted version\n",
      "        earlier_adopted_version= np.NaN\n",
      "        if max_supported_ver > max_unsupported_ver:\n",
      "            found = True\n",
      "            earlier_adopted_version = max_supported_ver\n",
      "        # get the total number of available versions regardless of adopting this feature\n",
      "        versions_count = len(package_data_frame.index)\n",
      "               # Do not compare single versions\n",
      "        if versions_count == 1:\n",
      "            continue\n",
      "        # Add the total versions and the first supported version to the result dataframe\n",
      "        df_result.ix[package, 'available_versions'] = versions_count\n",
      "        df_result.ix[package, 'support_this_feature'] = found\n",
      "        df_result.ix[package, result_column_name] = earlier_adopted_version\n",
      "    return df_result"
     ],
     "language": "python",
     "metadata": {},
     "outputs": [],
     "prompt_number": 12
    },
    {
     "cell_type": "code",
     "collapsed": false,
     "input": [
      "# How many apps have still used this feature in the latest release.\n",
      "def find_use_in_latest_release_n(dataframe, column_feature, opposite=False):\n",
      "    \"\"\"Returns a dataframe that contains the package,number of packages, and last version number of the supported feature.\n",
      "       Keyword arguments:\n",
      "       dataframe -- the original dataframe indexed using a hierarchical indexing of package and version_code)\n",
      "       column_feature -- the column name of a specific feature and must have boolean type values\n",
      "       \"\"\"\n",
      "    # Get the first index name (package name)\n",
      "    first_index = dataframe.index.names[0]\n",
      "    result_column_name = column_feature + '_use_in_latest_version'\n",
      "    df_result = pd.DataFrame(columns=[first_index, 'available_versions', result_column_name])\n",
      "    df_result.set_index(first_index, inplace =True)\n",
      "    # Get a list of unique packages\n",
      "    packages = dataframe.index.get_level_values(first_index).unique()\n",
      "    for package in packages:\n",
      "        package_data_frame = dataframe.loc[package]\n",
      "        # Get a list of supported versions for this package\n",
      "        supported_versions_list = package_data_frame[package_data_frame[column_feature]>0].index.tolist()\n",
      "        unsupported_versions_list = package_data_frame[package_data_frame[column_feature]==0].index.tolist()\n",
      "        if opposite:\n",
      "            supported_versions_list = package_data_frame[package_data_frame[column_feature]==0].index.tolist()\n",
      "            unsupported_versions_list = package_data_frame[package_data_frame[column_feature]>0].index.tolist()\n",
      "        # Exclude no matches\n",
      "        if supported_versions_list is None or unsupported_versions_list is None:\n",
      "            continue\n",
      "        if len(supported_versions_list) == 0:\n",
      "            continue\n",
      "        # compare the two version lists\n",
      "        try:\n",
      "            max_supported_ver = max(supported_versions_list)\n",
      "            max_unsupported_ver = max(unsupported_versions_list)\n",
      "        except ValueError:\n",
      "            pass\n",
      "        # if the latest version still supports the feature and has no unsupported versions\n",
      "        if(len(supported_versions_list) > 0 and len(unsupported_versions_list) == 0):\n",
      "            max_supported_ver = max(supported_versions_list)\n",
      "            max_unsupported_ver = -1000000\n",
      "       \n",
      "        # Include no matches; use True or False\n",
      "        found = False\n",
      "        # Return the first adopted version\n",
      "        earlier_adopted_version= np.NaN\n",
      "        if max_supported_ver > max_unsupported_ver:\n",
      "            found = True\n",
      "            earlier_adopted_version = max_supported_ver\n",
      "        # get the total number of available versions regardless of adopting this feature\n",
      "        versions_count = len(package_data_frame.index)\n",
      "               # Do not compare single versions\n",
      "        if versions_count == 1:\n",
      "            continue\n",
      "        # Add the total versions and the first supported version to the result dataframe\n",
      "        df_result.ix[package, 'available_versions'] = versions_count\n",
      "        df_result.ix[package, 'support_this_feature'] = found\n",
      "        df_result.ix[package, result_column_name] = earlier_adopted_version\n",
      "    return df_result\n"
     ],
     "language": "python",
     "metadata": {},
     "outputs": [],
     "prompt_number": 13
    },
    {
     "cell_type": "code",
     "collapsed": false,
     "input": [
      "def find_introduced_in_any_release(dataframe, column_feature):\n",
      "    \"\"\"Returns a dataframe that contains the package,number of packages, and first version number of the supported feature.\n",
      "       Keyword arguments:\n",
      "       dataframe -- the original dataframe indexed using a hierarchical indexing of package and version_code)\n",
      "       column_feature -- the column name of a specific feature and must have boolean type values.\n",
      "       \"\"\"\n",
      "    # Get the first index name (package name)\n",
      "    first_index = dataframe.index.names[0]\n",
      "    result_column_name = 'first_supported_version'\n",
      "    df_result = pd.DataFrame(columns=[first_index, 'available_versions', result_column_name])\n",
      "    df_result.set_index(first_index, inplace =True)\n",
      "    # Get a list of unique packages\n",
      "    packages = dataframe.index.get_level_values(first_index).unique()\n",
      "    for package in packages:\n",
      "        package_data_frame = dataframe.loc[package]\n",
      "        # Get a list of supported versions for this package\n",
      "        supported_version_list = package_data_frame[package_data_frame[column_feature]==True].index.tolist()\n",
      "        unsupported_version_list = package_data_frame[package_data_frame[column_feature]==False].index.tolist()\n",
      "        if not supported_version_list or not unsupported_version_list:\n",
      "            continue\n",
      "        # Include no matches; use True or False\n",
      "        found = False\n",
      "        first_supported_version= np.NaN\n",
      "        if supported_version_list and unsupported_version_list:\n",
      "            # compare the two version codes\n",
      "            if supported_version_list[0] > unsupported_version_list[0]:\n",
      "                found = True\n",
      "                first_supported_version = supported_version_list[0]\n",
      "        # get the total number of available versions regardless of using this feature\n",
      "        versions_count = len(package_data_frame.index)\n",
      "        # only consider multiple versions\n",
      "        if(versions_count == 1):\n",
      "            continue\n",
      "        # Add the most total versions and the most recent supported version to the result dataframe\n",
      "        df_result.ix[package, 'available_versions'] = versions_count\n",
      "        df_result.ix[package, 'introduced_this_feature'] = found\n",
      "        df_result.ix[package, result_column_name] = first_supported_version\n",
      "    return df_result"
     ],
     "language": "python",
     "metadata": {},
     "outputs": [],
     "prompt_number": 63
    },
    {
     "cell_type": "code",
     "collapsed": false,
     "input": [
      "# Merge two dataframe with the most recent version\n",
      "def merge_recent_apps_frame(dataframe_1, dataframe_details):\n",
      "    # Get unique packages series\n",
      "    df1 = dataframe_1\n",
      "    df2 = dataframe_details\n",
      "    df1= df1.reset_index()\n",
      "    df2 = df2.reset_index()\n",
      "    merged = pd.merge(df1,df2,on='package', suffixes=['_st','_nd'], how='inner')\n",
      "    merged = merged.sort(['package','version_code'], ascending=True)\n",
      "    merged = merged.drop_duplicates(subset='package', take_last=True)\n",
      "    return merged"
     ],
     "language": "python",
     "metadata": {},
     "outputs": [],
     "prompt_number": 14
    },
    {
     "cell_type": "code",
     "collapsed": false,
     "input": [
      "h = HTML('<h1>Dataset of Apps</h1><hr>'); h"
     ],
     "language": "python",
     "metadata": {},
     "outputs": [
      {
       "html": [
        "<h1>Dataset of Apps</h1><hr>"
       ],
       "metadata": {},
       "output_type": "pyout",
       "prompt_number": 73,
       "text": [
        "<IPython.core.display.HTML at 0x10fcf1950>"
       ]
      }
     ],
     "prompt_number": 73
    },
    {
     "cell_type": "code",
     "collapsed": false,
     "input": [
      "df_apps = pd.read_csv('../results/chi-15/listing/top_free_apps_with_multiple_versions.csv')\n",
      "df_apps.sort(columns=['package', 'version_code'], inplace=True)\n",
      "df_apps.set_index(['package','version_code'], inplace=True)\n",
      "df_apps.head()"
     ],
     "language": "python",
     "metadata": {},
     "outputs": [
      {
       "html": [
        "<div style=\"max-height:1000px;max-width:1500px;overflow:auto;\">\n",
        "<table border=\"1\" class=\"dataframe\">\n",
        "  <thead>\n",
        "    <tr style=\"text-align: right;\">\n",
        "      <th></th>\n",
        "      <th></th>\n",
        "    </tr>\n",
        "    <tr>\n",
        "      <th>package</th>\n",
        "      <th>version_code</th>\n",
        "    </tr>\n",
        "  </thead>\n",
        "  <tbody>\n",
        "    <tr>\n",
        "      <th rowspan=\"2\" valign=\"top\">Air.Lite</th>\n",
        "      <th>1 </th>\n",
        "    </tr>\n",
        "    <tr>\n",
        "      <th>2 </th>\n",
        "    </tr>\n",
        "    <tr>\n",
        "      <th rowspan=\"2\" valign=\"top\">Animaonline.FanFiction.Free</th>\n",
        "      <th>67</th>\n",
        "    </tr>\n",
        "    <tr>\n",
        "      <th>72</th>\n",
        "    </tr>\n",
        "    <tr>\n",
        "      <th>AutomateIt.mainPackage</th>\n",
        "      <th>79</th>\n",
        "    </tr>\n",
        "  </tbody>\n",
        "</table>\n",
        "</div>"
       ],
       "metadata": {},
       "output_type": "pyout",
       "prompt_number": 18,
       "text": [
        "Empty DataFrame\n",
        "Columns: []\n",
        "Index: [(Air.Lite, 1), (Air.Lite, 2), (Animaonline.FanFiction.Free, 67), (Animaonline.FanFiction.Free, 72), (AutomateIt.mainPackage, 79)]"
       ]
      }
     ],
     "prompt_number": 18
    },
    {
     "cell_type": "code",
     "collapsed": false,
     "input": [
      "h = HTML('<h2>Statistics</h2>'); h"
     ],
     "language": "python",
     "metadata": {},
     "outputs": [
      {
       "html": [
        "<h2>Statistics</h2>"
       ],
       "metadata": {},
       "output_type": "pyout",
       "prompt_number": 74,
       "text": [
        "<IPython.core.display.HTML at 0x10fcf1b10>"
       ]
      }
     ],
     "prompt_number": 74
    },
    {
     "cell_type": "code",
     "collapsed": false,
     "input": [
      "print(\"Total of APK files with versions:\" + str(len(df_apps)))"
     ],
     "language": "python",
     "metadata": {},
     "outputs": [
      {
       "output_type": "stream",
       "stream": "stdout",
       "text": [
        "Total of APK files with versions:56349\n"
       ]
      }
     ],
     "prompt_number": 19
    },
    {
     "cell_type": "code",
     "collapsed": false,
     "input": [
      "# Number of unique package names\n",
      "packages = df_apps.index.get_level_values(df_apps.index.names[0]).unique()\n",
      "total_apps = len(packages)\n",
      "print(\"Total of number of unique apps: \", total_apps)"
     ],
     "language": "python",
     "metadata": {},
     "outputs": [
      {
       "output_type": "stream",
       "stream": "stdout",
       "text": [
        "Total of number of unique apps:  24436\n"
       ]
      }
     ],
     "prompt_number": 145
    },
    {
     "cell_type": "code",
     "collapsed": false,
     "input": [
      "# Get the number of versions per app\n",
      "first_index = df_apps.index.names[0]\n",
      "df_summary = pd.DataFrame(columns=[first_index, 'number_of_versions'])\n",
      "df_summary.set_index(first_index, inplace =True)\n",
      "for gp in df_apps.index.get_level_values(first_index).unique():\n",
      "    tmp_df = df_apps.loc[gp]\n",
      "    df_summary.ix[gp, 'number_of_versions'] = len(tmp_df)\n",
      "print ('min version per app | ' + str(df_summary.number_of_versions.min()))\n",
      "print ('max version per app |' + str(df_summary.number_of_versions.max()))\n",
      "print ('mean version per app| ' + str(df_summary.number_of_versions.mean()))\n",
      "print ('std  |' + str(df_summary.number_of_versions.std()))\n",
      "df_summary.head()"
     ],
     "language": "python",
     "metadata": {},
     "outputs": [
      {
       "output_type": "stream",
       "stream": "stdout",
       "text": [
        "min version per app | 2\n",
        "max version per app |17\n",
        "mean version per app| 2.305982975937142\n",
        "std  |0.753388506292\n"
       ]
      },
      {
       "html": [
        "<div style=\"max-height:1000px;max-width:1500px;overflow:auto;\">\n",
        "<table border=\"1\" class=\"dataframe\">\n",
        "  <thead>\n",
        "    <tr style=\"text-align: right;\">\n",
        "      <th></th>\n",
        "      <th>number_of_versions</th>\n",
        "    </tr>\n",
        "    <tr>\n",
        "      <th>package</th>\n",
        "      <th></th>\n",
        "    </tr>\n",
        "  </thead>\n",
        "  <tbody>\n",
        "    <tr>\n",
        "      <th>Air.Lite</th>\n",
        "      <td> 2</td>\n",
        "    </tr>\n",
        "    <tr>\n",
        "      <th>Animaonline.FanFiction.Free</th>\n",
        "      <td> 2</td>\n",
        "    </tr>\n",
        "    <tr>\n",
        "      <th>AutomateIt.mainPackage</th>\n",
        "      <td> 2</td>\n",
        "    </tr>\n",
        "    <tr>\n",
        "      <th>B4A.Agroid_software</th>\n",
        "      <td> 3</td>\n",
        "    </tr>\n",
        "    <tr>\n",
        "      <th>B4A.BigFivePersonalityTest</th>\n",
        "      <td> 2</td>\n",
        "    </tr>\n",
        "  </tbody>\n",
        "</table>\n",
        "</div>"
       ],
       "metadata": {},
       "output_type": "pyout",
       "prompt_number": 21,
       "text": [
        "                            number_of_versions\n",
        "package                                       \n",
        "Air.Lite                                     2\n",
        "Animaonline.FanFiction.Free                  2\n",
        "AutomateIt.mainPackage                       2\n",
        "B4A.Agroid_software                          3\n",
        "B4A.BigFivePersonalityTest                   2"
       ]
      }
     ],
     "prompt_number": 21
    },
    {
     "cell_type": "code",
     "collapsed": false,
     "input": [
      "h = HTML('<h2>The distribution of Apps by versions.</h2>'); h"
     ],
     "language": "python",
     "metadata": {},
     "outputs": [
      {
       "html": [
        "<h2>The distribution of Apps by versions.</h2>"
       ],
       "metadata": {},
       "output_type": "pyout",
       "prompt_number": 72,
       "text": [
        "<IPython.core.display.HTML at 0x10fcf1bd0>"
       ]
      }
     ],
     "prompt_number": 72
    },
    {
     "cell_type": "code",
     "collapsed": true,
     "input": [
      "# Plot the results\n",
      "t = df_summary.groupby(['number_of_versions']).size()\n",
      "dark2_colors = brewer2mpl.get_map('Dark2', 'Qualitative', 7).mpl_colors\n",
      "t.plot(kind='bar', colors = dark2_colors[0:5])\n",
      "plt.xlabel(\"Number of Versions\")\n",
      "plt.ylabel(\"Number of Apps\")\n",
      "plt.title(\"Number of apps by versions in our dataset\")\n",
      "savefig('../results/chi-15/images/figures/data-distribution.png', dpi=100, format='png')\n",
      "print(t)"
     ],
     "language": "python",
     "metadata": {},
     "outputs": [
      {
       "output_type": "stream",
       "stream": "stdout",
       "text": [
        "number_of_versions\n",
        "2                     19566\n",
        "3                      3279\n",
        "4                       985\n",
        "5                       360\n",
        "6                       154\n",
        "7                        50\n",
        "8                        24\n",
        "9                        14\n",
        "10                        2\n",
        "11                        1\n",
        "17                        1\n",
        "dtype: int64\n"
       ]
      },
      {
       "metadata": {},
       "output_type": "display_data",
       "png": "[encoded data removed]",
       "text": [
        "<matplotlib.figure.Figure at 0x108979610>"
       ]
      }
     ],
     "prompt_number": 59
    },
    {
     "cell_type": "code",
     "collapsed": false,
     "input": [
      "h = HTML('<h2>The listing details of Apps</h2>'); h"
     ],
     "language": "python",
     "metadata": {},
     "outputs": [
      {
       "html": [
        "<h2>The listing details of Apps</h2>"
       ],
       "metadata": {},
       "output_type": "pyout",
       "prompt_number": 71,
       "text": [
        "<IPython.core.display.HTML at 0x10fcf1890>"
       ]
      }
     ],
     "prompt_number": 71
    },
    {
     "cell_type": "code",
     "collapsed": false,
     "input": [
      "df_details = pd.read_csv('../results/chi-15/listing/additional_info.csv')\n",
      "df_details.sort(columns=['package','version_code'], inplace=True)\n",
      "df_details.set_index(['package','version_code'], inplace=True)\n",
      "df_details.head()"
     ],
     "language": "python",
     "metadata": {},
     "outputs": [
      {
       "html": [
        "<div style=\"max-height:1000px;max-width:1500px;overflow:auto;\">\n",
        "<table border=\"1\" class=\"dataframe\">\n",
        "  <thead>\n",
        "    <tr style=\"text-align: right;\">\n",
        "      <th></th>\n",
        "      <th></th>\n",
        "      <th>version_name</th>\n",
        "      <th>title</th>\n",
        "      <th>category</th>\n",
        "      <th>rating</th>\n",
        "      <th>download</th>\n",
        "      <th>date_published</th>\n",
        "      <th>developer</th>\n",
        "      <th>total_permissions</th>\n",
        "      <th>permissions</th>\n",
        "    </tr>\n",
        "    <tr>\n",
        "      <th>package</th>\n",
        "      <th>version_code</th>\n",
        "      <th></th>\n",
        "      <th></th>\n",
        "      <th></th>\n",
        "      <th></th>\n",
        "      <th></th>\n",
        "      <th></th>\n",
        "      <th></th>\n",
        "      <th></th>\n",
        "      <th></th>\n",
        "    </tr>\n",
        "  </thead>\n",
        "  <tbody>\n",
        "    <tr>\n",
        "      <th rowspan=\"2\" valign=\"top\">Air.Lite</th>\n",
        "      <th>1 </th>\n",
        "      <td>    1.0</td>\n",
        "      <td>   Air Lite Psychrometric Calcs</td>\n",
        "      <td>      Productivity</td>\n",
        "      <td> 4.578432</td>\n",
        "      <td>  50000</td>\n",
        "      <td> 2011-05-21</td>\n",
        "      <td> Cold Means Mobile Software, LLC</td>\n",
        "      <td>  2</td>\n",
        "      <td> android.permission.INTERNET,android.permission...</td>\n",
        "    </tr>\n",
        "    <tr>\n",
        "      <th>2 </th>\n",
        "      <td>    1.1</td>\n",
        "      <td>               Air Control Lite</td>\n",
        "      <td>      Productivity</td>\n",
        "      <td> 4.200000</td>\n",
        "      <td>  50000</td>\n",
        "      <td> 2014-06-17</td>\n",
        "      <td>                     Four Pixels</td>\n",
        "      <td>  2</td>\n",
        "      <td> android.permission.INTERNET,android.permission...</td>\n",
        "    </tr>\n",
        "    <tr>\n",
        "      <th rowspan=\"2\" valign=\"top\">Animaonline.FanFiction.Free</th>\n",
        "      <th>67</th>\n",
        "      <td>  4.0.6</td>\n",
        "      <td>              FanFiction Reader</td>\n",
        "      <td> Books &amp; Reference</td>\n",
        "      <td> 4.439602</td>\n",
        "      <td> 100000</td>\n",
        "      <td> 2013-12-07</td>\n",
        "      <td>                        JMT Apps</td>\n",
        "      <td>  8</td>\n",
        "      <td> android.permission.ACCESS_NETWORK_STATE,androi...</td>\n",
        "    </tr>\n",
        "    <tr>\n",
        "      <th>72</th>\n",
        "      <td>  4.2.3</td>\n",
        "      <td>              FanFiction Reader</td>\n",
        "      <td> Books &amp; Reference</td>\n",
        "      <td> 4.435376</td>\n",
        "      <td> 100000</td>\n",
        "      <td> 2013-12-11</td>\n",
        "      <td>                        JMT Apps</td>\n",
        "      <td>  9</td>\n",
        "      <td> android.permission.ACCESS_NETWORK_STATE,androi...</td>\n",
        "    </tr>\n",
        "    <tr>\n",
        "      <th>AutomateIt.mainPackage</th>\n",
        "      <th>79</th>\n",
        "      <td> 3.0.79</td>\n",
        "      <td> AutomateIt-Automate Your Droid</td>\n",
        "      <td>      Productivity</td>\n",
        "      <td> 4.294265</td>\n",
        "      <td> 100000</td>\n",
        "      <td> 2013-11-20</td>\n",
        "      <td>                 SmarterApps Ltd</td>\n",
        "      <td> 36</td>\n",
        "      <td> android.permission.DISABLE_KEYGUARD,android.pe...</td>\n",
        "    </tr>\n",
        "  </tbody>\n",
        "</table>\n",
        "</div>"
       ],
       "metadata": {},
       "output_type": "pyout",
       "prompt_number": 66,
       "text": [
        "                                         version_name  \\\n",
        "package                     version_code                \n",
        "Air.Lite                    1                     1.0   \n",
        "                            2                     1.1   \n",
        "Animaonline.FanFiction.Free 67                  4.0.6   \n",
        "                            72                  4.2.3   \n",
        "AutomateIt.mainPackage      79                 3.0.79   \n",
        "\n",
        "                                                                   title  \\\n",
        "package                     version_code                                   \n",
        "Air.Lite                    1               Air Lite Psychrometric Calcs   \n",
        "                            2                           Air Control Lite   \n",
        "Animaonline.FanFiction.Free 67                         FanFiction Reader   \n",
        "                            72                         FanFiction Reader   \n",
        "AutomateIt.mainPackage      79            AutomateIt-Automate Your Droid   \n",
        "\n",
        "                                                   category    rating  \\\n",
        "package                     version_code                                \n",
        "Air.Lite                    1                  Productivity  4.578432   \n",
        "                            2                  Productivity  4.200000   \n",
        "Animaonline.FanFiction.Free 67            Books & Reference  4.439602   \n",
        "                            72            Books & Reference  4.435376   \n",
        "AutomateIt.mainPackage      79                 Productivity  4.294265   \n",
        "\n",
        "                                          download date_published  \\\n",
        "package                     version_code                            \n",
        "Air.Lite                    1                50000     2011-05-21   \n",
        "                            2                50000     2014-06-17   \n",
        "Animaonline.FanFiction.Free 67              100000     2013-12-07   \n",
        "                            72              100000     2013-12-11   \n",
        "AutomateIt.mainPackage      79              100000     2013-11-20   \n",
        "\n",
        "                                                                developer  \\\n",
        "package                     version_code                                    \n",
        "Air.Lite                    1             Cold Means Mobile Software, LLC   \n",
        "                            2                                 Four Pixels   \n",
        "Animaonline.FanFiction.Free 67                                   JMT Apps   \n",
        "                            72                                   JMT Apps   \n",
        "AutomateIt.mainPackage      79                            SmarterApps Ltd   \n",
        "\n",
        "                                          total_permissions  \\\n",
        "package                     version_code                      \n",
        "Air.Lite                    1                             2   \n",
        "                            2                             2   \n",
        "Animaonline.FanFiction.Free 67                            8   \n",
        "                            72                            9   \n",
        "AutomateIt.mainPackage      79                           36   \n",
        "\n",
        "                                                                                permissions  \n",
        "package                     version_code                                                     \n",
        "Air.Lite                    1             android.permission.INTERNET,android.permission...  \n",
        "                            2             android.permission.INTERNET,android.permission...  \n",
        "Animaonline.FanFiction.Free 67            android.permission.ACCESS_NETWORK_STATE,androi...  \n",
        "                            72            android.permission.ACCESS_NETWORK_STATE,androi...  \n",
        "AutomateIt.mainPackage      79            android.permission.DISABLE_KEYGUARD,android.pe...  "
       ]
      }
     ],
     "prompt_number": 66
    },
    {
     "cell_type": "code",
     "collapsed": false,
     "input": [
      "h = HTML('<h2>The distribution of Apps by download or install count</h2>'); h"
     ],
     "language": "python",
     "metadata": {},
     "outputs": [
      {
       "html": [
        "<h2>The distribution of Apps by download or install count</h2>"
       ],
       "metadata": {},
       "output_type": "pyout",
       "prompt_number": 70,
       "text": [
        "<IPython.core.display.HTML at 0x10fcf1c90>"
       ]
      }
     ],
     "prompt_number": 70
    },
    {
     "cell_type": "code",
     "collapsed": false,
     "input": [
      "all_downs = df_details['download'].reset_index(drop=True)\n",
      "table_frame = pd.DataFrame(0, index = np.arange(len(all_downs)), columns = all_downs.unique())\n",
      "count = 0\n",
      "for download in all_downs:\n",
      "    table_frame.ix[count, download] = 1\n",
      "    count += 1"
     ],
     "language": "python",
     "metadata": {},
     "outputs": [],
     "prompt_number": 243
    },
    {
     "cell_type": "code",
     "collapsed": false,
     "input": [
      "table_frame.sum().plot(kind='barh', figsize=(30, 20),  color=['r','g','c', 'm','y','k', '#00F5B8', '#B88A00'])\n",
      "ylabel('Downloads')\n",
      "xlabel('Number of apps')\n",
      "savefig('../results/chi-15/images/figures/apps_by_download.png', dpi=100, format='png')"
     ],
     "language": "python",
     "metadata": {},
     "outputs": [
      {
       "metadata": {},
       "output_type": "display_data",
       "png": "[encoded data removed]",
       "text": [
        "<matplotlib.figure.Figure at 0x10ec3c090>"
       ]
      }
     ],
     "prompt_number": 244
    },
    {
     "cell_type": "code",
     "collapsed": false,
     "input": [
      "h = HTML('<h1>Design Pattern Changes</h1>'); h"
     ],
     "language": "python",
     "metadata": {},
     "outputs": [
      {
       "html": [
        "<h1>Design Pattern Changes</h1>"
       ],
       "metadata": {},
       "output_type": "pyout",
       "prompt_number": 75,
       "text": [
        "<IPython.core.display.HTML at 0x10fcf1ad0>"
       ]
      }
     ],
     "prompt_number": 75
    },
    {
     "cell_type": "code",
     "collapsed": false,
     "input": [
      "h = HTML('<h1>1- Custom UI Components</h1>'); h"
     ],
     "language": "python",
     "metadata": {},
     "outputs": [
      {
       "html": [
        "<h1>1- Custom UI Components</h1>"
       ],
       "metadata": {},
       "output_type": "pyout",
       "prompt_number": 76,
       "text": [
        "<IPython.core.display.HTML at 0x10fcf1a90>"
       ]
      }
     ],
     "prompt_number": 76
    },
    {
     "cell_type": "code",
     "collapsed": false,
     "input": [
      "df_custom_ui = pd.read_csv('../results/chi-15/ui/custom_widgets.csv')\n",
      "df_custom_ui.sort(columns=['package','version_code'], inplace=True)\n",
      "df_custom_ui.set_index(['package','version_code'], inplace=True)\n",
      "df_custom_ui.head()"
     ],
     "language": "python",
     "metadata": {},
     "outputs": [
      {
       "html": [
        "<div style=\"max-height:1000px;max-width:1500px;overflow:auto;\">\n",
        "<table border=\"1\" class=\"dataframe\">\n",
        "  <thead>\n",
        "    <tr style=\"text-align: right;\">\n",
        "      <th></th>\n",
        "      <th></th>\n",
        "      <th>custom_widgets</th>\n",
        "    </tr>\n",
        "    <tr>\n",
        "      <th>package</th>\n",
        "      <th>version_code</th>\n",
        "      <th></th>\n",
        "    </tr>\n",
        "  </thead>\n",
        "  <tbody>\n",
        "    <tr>\n",
        "      <th rowspan=\"2\" valign=\"top\">Air.Lite</th>\n",
        "      <th>1 </th>\n",
        "      <td>  0</td>\n",
        "    </tr>\n",
        "    <tr>\n",
        "      <th>2 </th>\n",
        "      <td>  0</td>\n",
        "    </tr>\n",
        "    <tr>\n",
        "      <th rowspan=\"2\" valign=\"top\">Animaonline.FanFiction.Free</th>\n",
        "      <th>67</th>\n",
        "      <td>  0</td>\n",
        "    </tr>\n",
        "    <tr>\n",
        "      <th>72</th>\n",
        "      <td>  0</td>\n",
        "    </tr>\n",
        "    <tr>\n",
        "      <th>AutomateIt.mainPackage</th>\n",
        "      <th>79</th>\n",
        "      <td> 10</td>\n",
        "    </tr>\n",
        "  </tbody>\n",
        "</table>\n",
        "</div>"
       ],
       "metadata": {},
       "output_type": "pyout",
       "prompt_number": 254,
       "text": [
        "                                          custom_widgets\n",
        "package                     version_code                \n",
        "Air.Lite                    1                          0\n",
        "                            2                          0\n",
        "Animaonline.FanFiction.Free 67                         0\n",
        "                            72                         0\n",
        "AutomateIt.mainPackage      79                        10"
       ]
      }
     ],
     "prompt_number": 254
    },
    {
     "cell_type": "code",
     "collapsed": false,
     "input": [
      "h = HTML(\"<h2>How many apps ever used custom UI components in any release?</h2>\"); h"
     ],
     "language": "python",
     "metadata": {},
     "outputs": [
      {
       "html": [
        "<h2>How many apps ever used custom UI components in any release?</h2>"
       ],
       "metadata": {},
       "output_type": "pyout",
       "prompt_number": 255,
       "text": [
        "<IPython.core.display.HTML at 0x1168b54d0>"
       ]
      }
     ],
     "prompt_number": 255
    },
    {
     "cell_type": "code",
     "collapsed": false,
     "input": [
      "df_custom_ui_use = find_usage_in_any_release_n(df_custom_ui, 'custom_widgets', True)\n",
      "df_custom_ui_use.head()"
     ],
     "language": "python",
     "metadata": {},
     "outputs": [
      {
       "html": [
        "<div style=\"max-height:1000px;max-width:1500px;overflow:auto;\">\n",
        "<table border=\"1\" class=\"dataframe\">\n",
        "  <thead>\n",
        "    <tr style=\"text-align: right;\">\n",
        "      <th></th>\n",
        "      <th>available_versions</th>\n",
        "      <th>custom_widgets_first_supported_version</th>\n",
        "      <th>support_this_feature</th>\n",
        "    </tr>\n",
        "    <tr>\n",
        "      <th>package</th>\n",
        "      <th></th>\n",
        "      <th></th>\n",
        "      <th></th>\n",
        "    </tr>\n",
        "  </thead>\n",
        "  <tbody>\n",
        "    <tr>\n",
        "      <th>Air.Lite</th>\n",
        "      <td> 2</td>\n",
        "      <td> NaN</td>\n",
        "      <td> False</td>\n",
        "    </tr>\n",
        "    <tr>\n",
        "      <th>Animaonline.FanFiction.Free</th>\n",
        "      <td> 2</td>\n",
        "      <td> NaN</td>\n",
        "      <td> False</td>\n",
        "    </tr>\n",
        "    <tr>\n",
        "      <th>AutomateIt.mainPackage</th>\n",
        "      <td> 2</td>\n",
        "      <td>  79</td>\n",
        "      <td>  True</td>\n",
        "    </tr>\n",
        "    <tr>\n",
        "      <th>B4A.Agroid_software</th>\n",
        "      <td> 3</td>\n",
        "      <td> NaN</td>\n",
        "      <td> False</td>\n",
        "    </tr>\n",
        "    <tr>\n",
        "      <th>B4A.BigFivePersonalityTest</th>\n",
        "      <td> 2</td>\n",
        "      <td> NaN</td>\n",
        "      <td> False</td>\n",
        "    </tr>\n",
        "  </tbody>\n",
        "</table>\n",
        "</div>"
       ],
       "metadata": {},
       "output_type": "pyout",
       "prompt_number": 256,
       "text": [
        "                            available_versions  \\\n",
        "package                                          \n",
        "Air.Lite                                     2   \n",
        "Animaonline.FanFiction.Free                  2   \n",
        "AutomateIt.mainPackage                       2   \n",
        "B4A.Agroid_software                          3   \n",
        "B4A.BigFivePersonalityTest                   2   \n",
        "\n",
        "                            custom_widgets_first_supported_version  \\\n",
        "package                                                              \n",
        "Air.Lite                                                       NaN   \n",
        "Animaonline.FanFiction.Free                                    NaN   \n",
        "AutomateIt.mainPackage                                          79   \n",
        "B4A.Agroid_software                                            NaN   \n",
        "B4A.BigFivePersonalityTest                                     NaN   \n",
        "\n",
        "                            support_this_feature  \n",
        "package                                           \n",
        "Air.Lite                                   False  \n",
        "Animaonline.FanFiction.Free                False  \n",
        "AutomateIt.mainPackage                      True  \n",
        "B4A.Agroid_software                        False  \n",
        "B4A.BigFivePersonalityTest                 False  "
       ]
      }
     ],
     "prompt_number": 256
    },
    {
     "cell_type": "code",
     "collapsed": false,
     "input": [
      "arr = np.array(df_custom_ui_use['support_this_feature'], dtype= bool) + 0\n",
      "tmp = df_custom_ui_use\n",
      "try:\n",
      "    tmp.insert(0, 'binary_value', arr)\n",
      "except ValueError:\n",
      "    pass\n",
      "tmp.groupby('support_this_feature').count().plot(kind='pie', y='binary_value',\n",
      "                      autopct='%1.1f%%', title='Custom UI Components Use.',\n",
      "                      figsize=(4,4), colors=['r', 'g'], fontsize=20)\n",
      "print('Number of apps that used custom UI components: ' + \n",
      "      str(len(tmp.loc[tmp.support_this_feature == True])) +\n",
      "      ' out of ' + str(len(tmp)) + ' apps.')"
     ],
     "language": "python",
     "metadata": {},
     "outputs": [
      {
       "output_type": "stream",
       "stream": "stdout",
       "text": [
        "Number of apps that used custom UI components: 15808 out of 24419 apps.\n"
       ]
      },
      {
       "metadata": {},
       "output_type": "display_data",
       "png": "[encoded data removed]",
       "text": [
        "<matplotlib.figure.Figure at 0x1168b5390>"
       ]
      }
     ],
     "prompt_number": 257
    },
    {
     "cell_type": "code",
     "collapsed": false,
     "input": [
      "h = HTML(\"<h2>How many apps introduced custom UI components in any release?</h2>\"); h"
     ],
     "language": "python",
     "metadata": {},
     "outputs": [
      {
       "html": [
        "<h2>How many apps introduced custom UI components in any release?</h2>"
       ],
       "metadata": {},
       "output_type": "pyout",
       "prompt_number": 218,
       "text": [
        "<IPython.core.display.HTML at 0x10e33ef90>"
       ]
      }
     ],
     "prompt_number": 218
    },
    {
     "cell_type": "code",
     "collapsed": false,
     "input": [
      "df_custom_ui_introduced = find_introduced_in_any_release(df_custom_ui, 'custom_widgets')\n",
      "len(df_custom_ui_introduced)"
     ],
     "language": "python",
     "metadata": {},
     "outputs": [
      {
       "metadata": {},
       "output_type": "pyout",
       "prompt_number": 220,
       "text": [
        "818"
       ]
      }
     ],
     "prompt_number": 220
    },
    {
     "cell_type": "code",
     "collapsed": false,
     "input": [
      "h = HTML(\"<h2>How many apps still use custom UI components in their latest release?</h2>\"); h"
     ],
     "language": "python",
     "metadata": {},
     "outputs": [
      {
       "html": [
        "<h2>How many apps still use custom UI components in their latest release?</h2>"
       ],
       "metadata": {},
       "output_type": "pyout",
       "prompt_number": 223,
       "text": [
        "<IPython.core.display.HTML at 0x1111500d0>"
       ]
      }
     ],
     "prompt_number": 223
    },
    {
     "cell_type": "code",
     "collapsed": false,
     "input": [
      "df_custom_ui_still_using = find_use_in_latest_release_n(df_custom_ui, 'custom_widgets')\n",
      "df_custom_ui_still_using.head()\n",
      "len(df_custom_ui_still_using)"
     ],
     "language": "python",
     "metadata": {},
     "outputs": [
      {
       "metadata": {},
       "output_type": "pyout",
       "prompt_number": 261,
       "text": [
        "15808"
       ]
      }
     ],
     "prompt_number": 261
    },
    {
     "cell_type": "code",
     "collapsed": false,
     "input": [
      "arr = np.array(df_custom_ui_still_using['support_this_feature'], dtype= bool) + 0\n",
      "tmp = df_custom_ui_still_using\n",
      "try:\n",
      "    tmp.insert(0, 'binary_value', arr)\n",
      "except ValueError:\n",
      "    pass\n",
      "tmp.groupby('support_this_feature').count().plot(kind='pie', y='binary_value',\n",
      "                      autopct='%1.1f%%', title='Custom UI Components Use in Latest release',\n",
      "                      figsize=(4,4), colors=['r', 'g'], fontsize=20)\n",
      "print('Number of apps that no longer use custom UI components: ' + \n",
      "      str(len(tmp.loc[tmp.support_this_feature == False])) +\n",
      "      ' out of ' + str(len(tmp)) + ' apps.')"
     ],
     "language": "python",
     "metadata": {},
     "outputs": [
      {
       "output_type": "stream",
       "stream": "stdout",
       "text": [
        "Number of apps that no longer use custom UI components: 410 out of 15808 apps.\n"
       ]
      },
      {
       "metadata": {},
       "output_type": "display_data",
       "png": "[encoded data removed]",
       "text": [
        "<matplotlib.figure.Figure at 0x10ef15a50>"
       ]
      }
     ],
     "prompt_number": 262
    },
    {
     "cell_type": "code",
     "collapsed": false,
     "input": [
      "h = HTML('<h1>2- Home Screen Widgets</h1>'); h"
     ],
     "language": "python",
     "metadata": {},
     "outputs": [
      {
       "html": [
        "<h1>2- Home Screen Widgets</h1>"
       ],
       "metadata": {},
       "output_type": "pyout",
       "prompt_number": 77,
       "text": [
        "<IPython.core.display.HTML at 0x10fcf1590>"
       ]
      }
     ],
     "prompt_number": 77
    },
    {
     "cell_type": "code",
     "collapsed": false,
     "input": [
      "df_appswidgets = pd.read_csv('../results/chi-15/ui/appswidgets.txt')\n",
      "df_appswidgets.sort(columns=['package','version_code'], inplace=True)\n",
      "df_appswidgets.set_index(['package','version_code'], inplace=True)\n",
      "df_appswidgets.head()"
     ],
     "language": "python",
     "metadata": {},
     "outputs": [
      {
       "html": [
        "<div style=\"max-height:1000px;max-width:1500px;overflow:auto;\">\n",
        "<table border=\"1\" class=\"dataframe\">\n",
        "  <thead>\n",
        "    <tr style=\"text-align: right;\">\n",
        "      <th></th>\n",
        "      <th></th>\n",
        "      <th>widgets_count</th>\n",
        "    </tr>\n",
        "    <tr>\n",
        "      <th>package</th>\n",
        "      <th>version_code</th>\n",
        "      <th></th>\n",
        "    </tr>\n",
        "  </thead>\n",
        "  <tbody>\n",
        "    <tr>\n",
        "      <th rowspan=\"2\" valign=\"top\">Air.Lite</th>\n",
        "      <th>1 </th>\n",
        "      <td> 0</td>\n",
        "    </tr>\n",
        "    <tr>\n",
        "      <th>2 </th>\n",
        "      <td> 0</td>\n",
        "    </tr>\n",
        "    <tr>\n",
        "      <th rowspan=\"2\" valign=\"top\">Animaonline.FanFiction.Free</th>\n",
        "      <th>67</th>\n",
        "      <td> 0</td>\n",
        "    </tr>\n",
        "    <tr>\n",
        "      <th>72</th>\n",
        "      <td> 0</td>\n",
        "    </tr>\n",
        "    <tr>\n",
        "      <th>AutomateIt.mainPackage</th>\n",
        "      <th>79</th>\n",
        "      <td> 1</td>\n",
        "    </tr>\n",
        "  </tbody>\n",
        "</table>\n",
        "</div>"
       ],
       "metadata": {},
       "output_type": "pyout",
       "prompt_number": 84,
       "text": [
        "                                          widgets_count\n",
        "package                     version_code               \n",
        "Air.Lite                    1                         0\n",
        "                            2                         0\n",
        "Animaonline.FanFiction.Free 67                        0\n",
        "                            72                        0\n",
        "AutomateIt.mainPackage      79                        1"
       ]
      }
     ],
     "prompt_number": 84
    },
    {
     "cell_type": "code",
     "collapsed": false,
     "input": [
      "h = HTML(\"<h2>How many apps ever used home screen widgets in any release?</h2>\"); h"
     ],
     "language": "python",
     "metadata": {},
     "outputs": [
      {
       "html": [
        "<h2>How many apps ever used home screen widgets in any release?</h2>"
       ],
       "metadata": {},
       "output_type": "pyout",
       "prompt_number": 87,
       "text": [
        "<IPython.core.display.HTML at 0x108ba6510>"
       ]
      }
     ],
     "prompt_number": 87
    },
    {
     "cell_type": "code",
     "collapsed": false,
     "input": [
      "df_appswidgets_use = find_usage_in_any_release_n(df_appswidgets, 'widgets_count', True)\n",
      "df_appswidgets_use.head()"
     ],
     "language": "python",
     "metadata": {},
     "outputs": [
      {
       "html": [
        "<div style=\"max-height:1000px;max-width:1500px;overflow:auto;\">\n",
        "<table border=\"1\" class=\"dataframe\">\n",
        "  <thead>\n",
        "    <tr style=\"text-align: right;\">\n",
        "      <th></th>\n",
        "      <th>available_versions</th>\n",
        "      <th>widgets_count_first_supported_version</th>\n",
        "      <th>support_this_feature</th>\n",
        "    </tr>\n",
        "    <tr>\n",
        "      <th>package</th>\n",
        "      <th></th>\n",
        "      <th></th>\n",
        "      <th></th>\n",
        "    </tr>\n",
        "  </thead>\n",
        "  <tbody>\n",
        "    <tr>\n",
        "      <th>Air.Lite</th>\n",
        "      <td> 2</td>\n",
        "      <td> NaN</td>\n",
        "      <td> False</td>\n",
        "    </tr>\n",
        "    <tr>\n",
        "      <th>Animaonline.FanFiction.Free</th>\n",
        "      <td> 2</td>\n",
        "      <td> NaN</td>\n",
        "      <td> False</td>\n",
        "    </tr>\n",
        "    <tr>\n",
        "      <th>AutomateIt.mainPackage</th>\n",
        "      <td> 2</td>\n",
        "      <td>  79</td>\n",
        "      <td>  True</td>\n",
        "    </tr>\n",
        "    <tr>\n",
        "      <th>B4A.Agroid_software</th>\n",
        "      <td> 3</td>\n",
        "      <td> NaN</td>\n",
        "      <td> False</td>\n",
        "    </tr>\n",
        "    <tr>\n",
        "      <th>B4A.BigFivePersonalityTest</th>\n",
        "      <td> 2</td>\n",
        "      <td> NaN</td>\n",
        "      <td> False</td>\n",
        "    </tr>\n",
        "  </tbody>\n",
        "</table>\n",
        "</div>"
       ],
       "metadata": {},
       "output_type": "pyout",
       "prompt_number": 89,
       "text": [
        "                            available_versions  \\\n",
        "package                                          \n",
        "Air.Lite                                     2   \n",
        "Animaonline.FanFiction.Free                  2   \n",
        "AutomateIt.mainPackage                       2   \n",
        "B4A.Agroid_software                          3   \n",
        "B4A.BigFivePersonalityTest                   2   \n",
        "\n",
        "                            widgets_count_first_supported_version  \\\n",
        "package                                                             \n",
        "Air.Lite                                                      NaN   \n",
        "Animaonline.FanFiction.Free                                   NaN   \n",
        "AutomateIt.mainPackage                                         79   \n",
        "B4A.Agroid_software                                           NaN   \n",
        "B4A.BigFivePersonalityTest                                    NaN   \n",
        "\n",
        "                            support_this_feature  \n",
        "package                                           \n",
        "Air.Lite                                   False  \n",
        "Animaonline.FanFiction.Free                False  \n",
        "AutomateIt.mainPackage                      True  \n",
        "B4A.Agroid_software                        False  \n",
        "B4A.BigFivePersonalityTest                 False  "
       ]
      }
     ],
     "prompt_number": 89
    },
    {
     "cell_type": "code",
     "collapsed": false,
     "input": [
      "arr = np.array(df_appswidgets_use['support_this_feature'], dtype= bool) + 0\n",
      "tmp = df_appswidgets_use\n",
      "try:\n",
      "    tmp.insert(0, 'binary_value', arr)\n",
      "except ValueError:\n",
      "    pass\n",
      "tmp.groupby('support_this_feature').count().plot(kind='pie', y='binary_value',\n",
      "                      autopct='%1.1f%%', title='Home Screen Widgets Use.',\n",
      "                      figsize=(4,4), colors=['r', 'g'], fontsize=20)\n",
      "print('Number of apps that used Home Screen Widgets: ' + \n",
      "      str(len(tmp.loc[tmp.support_this_feature == True])) +\n",
      "      ' out of ' + str(len(tmp)) + ' apps.')"
     ],
     "language": "python",
     "metadata": {},
     "outputs": [
      {
       "output_type": "stream",
       "stream": "stdout",
       "text": [
        "Number of apps that used Home Screen Widgets: 2639 out of 24436 apps.\n"
       ]
      },
      {
       "metadata": {},
       "output_type": "display_data",
       "png": "[encoded data removed]",
       "text": [
        "<matplotlib.figure.Figure at 0x10f16b410>"
       ]
      }
     ],
     "prompt_number": 91
    },
    {
     "cell_type": "code",
     "collapsed": false,
     "input": [
      "h = HTML(\"<h2>How many apps introduced home screen widgets in any release?</h2>\"); h"
     ],
     "language": "python",
     "metadata": {},
     "outputs": [
      {
       "html": [
        "<h2>How many apps introduced home screen widgets in any release?</h2>"
       ],
       "metadata": {},
       "output_type": "pyout",
       "prompt_number": 92,
       "text": [
        "<IPython.core.display.HTML at 0x10dd0dc50>"
       ]
      }
     ],
     "prompt_number": 92
    },
    {
     "cell_type": "code",
     "collapsed": false,
     "input": [
      "df_appswidgets_introduced = find_introduced_in_any_release(df_appswidgets, 'widgets_count')\n",
      "len(df_appswidgets_introduced)"
     ],
     "language": "python",
     "metadata": {},
     "outputs": [
      {
       "metadata": {},
       "output_type": "pyout",
       "prompt_number": 94,
       "text": [
        "255"
       ]
      }
     ],
     "prompt_number": 94
    },
    {
     "cell_type": "code",
     "collapsed": false,
     "input": [
      "df_appswidgets_introduced.head()"
     ],
     "language": "python",
     "metadata": {},
     "outputs": [
      {
       "html": [
        "<div style=\"max-height:1000px;max-width:1500px;overflow:auto;\">\n",
        "<table border=\"1\" class=\"dataframe\">\n",
        "  <thead>\n",
        "    <tr style=\"text-align: right;\">\n",
        "      <th></th>\n",
        "      <th>available_versions</th>\n",
        "      <th>first_supported_version</th>\n",
        "      <th>introduced_this_feature</th>\n",
        "    </tr>\n",
        "    <tr>\n",
        "      <th>package</th>\n",
        "      <th></th>\n",
        "      <th></th>\n",
        "      <th></th>\n",
        "    </tr>\n",
        "  </thead>\n",
        "  <tbody>\n",
        "    <tr>\n",
        "      <th>app.com.superwifi</th>\n",
        "      <td> 3</td>\n",
        "      <td>         4</td>\n",
        "      <td> True</td>\n",
        "    </tr>\n",
        "    <tr>\n",
        "      <th>basarafire.android.app.appsbox</th>\n",
        "      <td> 2</td>\n",
        "      <td>        58</td>\n",
        "      <td> True</td>\n",
        "    </tr>\n",
        "    <tr>\n",
        "      <th>berserker.android.apps.sshdroid</th>\n",
        "      <td> 2</td>\n",
        "      <td>        33</td>\n",
        "      <td> True</td>\n",
        "    </tr>\n",
        "    <tr>\n",
        "      <th>biz.interblitz.budgetfree</th>\n",
        "      <td> 3</td>\n",
        "      <td>        50</td>\n",
        "      <td> True</td>\n",
        "    </tr>\n",
        "    <tr>\n",
        "      <th>cc.pacer.androidapp</th>\n",
        "      <td> 2</td>\n",
        "      <td> 201406120</td>\n",
        "      <td> True</td>\n",
        "    </tr>\n",
        "  </tbody>\n",
        "</table>\n",
        "</div>"
       ],
       "metadata": {},
       "output_type": "pyout",
       "prompt_number": 95,
       "text": [
        "                                available_versions first_supported_version  \\\n",
        "package                                                                      \n",
        "app.com.superwifi                                3                       4   \n",
        "basarafire.android.app.appsbox                   2                      58   \n",
        "berserker.android.apps.sshdroid                  2                      33   \n",
        "biz.interblitz.budgetfree                        3                      50   \n",
        "cc.pacer.androidapp                              2               201406120   \n",
        "\n",
        "                                introduced_this_feature  \n",
        "package                                                  \n",
        "app.com.superwifi                                  True  \n",
        "basarafire.android.app.appsbox                     True  \n",
        "berserker.android.apps.sshdroid                    True  \n",
        "biz.interblitz.budgetfree                          True  \n",
        "cc.pacer.androidapp                                True  "
       ]
      }
     ],
     "prompt_number": 95
    },
    {
     "cell_type": "code",
     "collapsed": false,
     "input": [
      "# How many apps use this horizontal paging ?\n",
      "h = HTML(\"<h2>How many apps still use any home screen widgets in their latest release?</h2>\"); h"
     ],
     "language": "python",
     "metadata": {},
     "outputs": [
      {
       "html": [
        "<h2>How many apps still use any home screen widgets in their latest release?</h2>"
       ],
       "metadata": {},
       "output_type": "pyout",
       "prompt_number": 100,
       "text": [
        "<IPython.core.display.HTML at 0x109280110>"
       ]
      }
     ],
     "prompt_number": 100
    },
    {
     "cell_type": "code",
     "collapsed": false,
     "input": [
      "df_appswidgets_still_using = find_use_in_latest_release(df_appswidgets, 'widgets_count')\n",
      "df_appswidgets_still_using.head()\n",
      "len(df_appswidgets_still_using)"
     ],
     "language": "python",
     "metadata": {},
     "outputs": [
      {
       "metadata": {},
       "output_type": "pyout",
       "prompt_number": 97,
       "text": [
        "1688"
       ]
      }
     ],
     "prompt_number": 97
    },
    {
     "cell_type": "code",
     "collapsed": false,
     "input": [
      "arr = np.array(df_appswidgets_still_using['support_this_feature'], dtype= bool) + 0\n",
      "tmp = df_appswidgets_still_using\n",
      "try:\n",
      "    tmp.insert(0, 'binary_value', arr)\n",
      "except ValueError:\n",
      "    pass\n",
      "tmp.groupby('support_this_feature').count().plot(kind='pie', y='binary_value',\n",
      "                      autopct='%1.1f%%', title='Home Screen Widgets Use in Latest release',\n",
      "                      figsize=(4,4), colors=['r', 'g'], fontsize=20)\n",
      "print('Number of apps that no longer use home screen widgets: ' + \n",
      "      str(len(tmp.loc[tmp.support_this_feature == False])) +\n",
      "      ' out of ' + str(len(tmp)) + ' apps.')"
     ],
     "language": "python",
     "metadata": {},
     "outputs": [
      {
       "output_type": "stream",
       "stream": "stdout",
       "text": [
        "Number of apps that no longer use home screen widgets: 51 out of 1688 apps.\n"
       ]
      },
      {
       "metadata": {},
       "output_type": "display_data",
       "png": "[encoded data removed]",
       "text": [
        "<matplotlib.figure.Figure at 0x10dd0d9d0>"
       ]
      }
     ],
     "prompt_number": 98
    },
    {
     "cell_type": "code",
     "collapsed": false,
     "input": [
      "h = HTML(\"<h2>Resizable Widgets</h2>\"); h"
     ],
     "language": "python",
     "metadata": {},
     "outputs": [
      {
       "html": [
        "<h2>Resizable Widgets</h2>"
       ],
       "metadata": {},
       "output_type": "pyout",
       "prompt_number": 101,
       "text": [
        "<IPython.core.display.HTML at 0x108bc7290>"
       ]
      }
     ],
     "prompt_number": 101
    },
    {
     "cell_type": "code",
     "collapsed": false,
     "input": [
      "df_resizable_widgets = pd.read_csv('../results/chi-15/ui/find_resizable_widgets.csv')\n",
      "df_resizable_widgets.sort(columns=['package','version_code'], inplace=True)\n",
      "df_resizable_widgets.set_index(['package','version_code'], inplace=True)\n",
      "df_resizable_widgets.head()"
     ],
     "language": "python",
     "metadata": {},
     "outputs": [
      {
       "html": [
        "<div style=\"max-height:1000px;max-width:1500px;overflow:auto;\">\n",
        "<table border=\"1\" class=\"dataframe\">\n",
        "  <thead>\n",
        "    <tr style=\"text-align: right;\">\n",
        "      <th></th>\n",
        "      <th></th>\n",
        "      <th>resizeMode</th>\n",
        "    </tr>\n",
        "    <tr>\n",
        "      <th>package</th>\n",
        "      <th>version_code</th>\n",
        "      <th></th>\n",
        "    </tr>\n",
        "  </thead>\n",
        "  <tbody>\n",
        "    <tr>\n",
        "      <th rowspan=\"2\" valign=\"top\">Air.Lite</th>\n",
        "      <th>1 </th>\n",
        "      <td> False</td>\n",
        "    </tr>\n",
        "    <tr>\n",
        "      <th>2 </th>\n",
        "      <td> False</td>\n",
        "    </tr>\n",
        "    <tr>\n",
        "      <th rowspan=\"2\" valign=\"top\">Animaonline.FanFiction.Free</th>\n",
        "      <th>67</th>\n",
        "      <td> False</td>\n",
        "    </tr>\n",
        "    <tr>\n",
        "      <th>72</th>\n",
        "      <td> False</td>\n",
        "    </tr>\n",
        "    <tr>\n",
        "      <th>AutomateIt.mainPackage</th>\n",
        "      <th>79</th>\n",
        "      <td> False</td>\n",
        "    </tr>\n",
        "  </tbody>\n",
        "</table>\n",
        "</div>"
       ],
       "metadata": {},
       "output_type": "pyout",
       "prompt_number": 102,
       "text": [
        "                                         resizeMode\n",
        "package                     version_code           \n",
        "Air.Lite                    1                 False\n",
        "                            2                 False\n",
        "Animaonline.FanFiction.Free 67                False\n",
        "                            72                False\n",
        "AutomateIt.mainPackage      79                False"
       ]
      }
     ],
     "prompt_number": 102
    },
    {
     "cell_type": "code",
     "collapsed": false,
     "input": [
      "h = HTML(\"<h2>How many apps ever used home screen widgets in any release?</h2>\"); h"
     ],
     "language": "python",
     "metadata": {},
     "outputs": [
      {
       "html": [
        "<h2>How many apps ever used home screen widgets in any release?</h2>"
       ],
       "metadata": {},
       "output_type": "pyout",
       "prompt_number": 103,
       "text": [
        "<IPython.core.display.HTML at 0x108bc7cd0>"
       ]
      }
     ],
     "prompt_number": 103
    },
    {
     "cell_type": "code",
     "collapsed": false,
     "input": [
      "df_resizable_widgets_use = find_usage_in_any_release_n(df_resizable_widgets, 'resizeMode', True)\n",
      "df_resizable_widgets_use.head()"
     ],
     "language": "python",
     "metadata": {},
     "outputs": [
      {
       "html": [
        "<div style=\"max-height:1000px;max-width:1500px;overflow:auto;\">\n",
        "<table border=\"1\" class=\"dataframe\">\n",
        "  <thead>\n",
        "    <tr style=\"text-align: right;\">\n",
        "      <th></th>\n",
        "      <th>available_versions</th>\n",
        "      <th>resizeMode_first_supported_version</th>\n",
        "      <th>support_this_feature</th>\n",
        "    </tr>\n",
        "    <tr>\n",
        "      <th>package</th>\n",
        "      <th></th>\n",
        "      <th></th>\n",
        "      <th></th>\n",
        "    </tr>\n",
        "  </thead>\n",
        "  <tbody>\n",
        "    <tr>\n",
        "      <th>Air.Lite</th>\n",
        "      <td> 2</td>\n",
        "      <td> NaN</td>\n",
        "      <td> False</td>\n",
        "    </tr>\n",
        "    <tr>\n",
        "      <th>Animaonline.FanFiction.Free</th>\n",
        "      <td> 2</td>\n",
        "      <td> NaN</td>\n",
        "      <td> False</td>\n",
        "    </tr>\n",
        "    <tr>\n",
        "      <th>AutomateIt.mainPackage</th>\n",
        "      <td> 2</td>\n",
        "      <td> NaN</td>\n",
        "      <td> False</td>\n",
        "    </tr>\n",
        "    <tr>\n",
        "      <th>B4A.Agroid_software</th>\n",
        "      <td> 3</td>\n",
        "      <td> NaN</td>\n",
        "      <td> False</td>\n",
        "    </tr>\n",
        "    <tr>\n",
        "      <th>B4A.BigFivePersonalityTest</th>\n",
        "      <td> 2</td>\n",
        "      <td> NaN</td>\n",
        "      <td> False</td>\n",
        "    </tr>\n",
        "  </tbody>\n",
        "</table>\n",
        "</div>"
       ],
       "metadata": {},
       "output_type": "pyout",
       "prompt_number": 104,
       "text": [
        "                            available_versions  \\\n",
        "package                                          \n",
        "Air.Lite                                     2   \n",
        "Animaonline.FanFiction.Free                  2   \n",
        "AutomateIt.mainPackage                       2   \n",
        "B4A.Agroid_software                          3   \n",
        "B4A.BigFivePersonalityTest                   2   \n",
        "\n",
        "                            resizeMode_first_supported_version  \\\n",
        "package                                                          \n",
        "Air.Lite                                                   NaN   \n",
        "Animaonline.FanFiction.Free                                NaN   \n",
        "AutomateIt.mainPackage                                     NaN   \n",
        "B4A.Agroid_software                                        NaN   \n",
        "B4A.BigFivePersonalityTest                                 NaN   \n",
        "\n",
        "                            support_this_feature  \n",
        "package                                           \n",
        "Air.Lite                                   False  \n",
        "Animaonline.FanFiction.Free                False  \n",
        "AutomateIt.mainPackage                     False  \n",
        "B4A.Agroid_software                        False  \n",
        "B4A.BigFivePersonalityTest                 False  "
       ]
      }
     ],
     "prompt_number": 104
    },
    {
     "cell_type": "code",
     "collapsed": false,
     "input": [
      "arr = np.array(df_resizable_widgets_use['support_this_feature'], dtype= bool) + 0\n",
      "tmp = df_resizable_widgets_use\n",
      "try:\n",
      "    tmp.insert(0, 'binary_value', arr)\n",
      "except ValueError:\n",
      "    pass\n",
      "tmp.groupby('support_this_feature').count().plot(kind='pie', y='binary_value',\n",
      "                      autopct='%1.1f%%', title='Resizable app widgets Use',\n",
      "                      figsize=(4,4), colors=['r', 'g'], fontsize=20)\n",
      "print('Number of apps that used resizable app widgets: ' + \n",
      "      str(len(tmp.loc[tmp.support_this_feature == True])) +\n",
      "      ' out of ' + str(len(tmp)) + ' apps.')"
     ],
     "language": "python",
     "metadata": {},
     "outputs": [
      {
       "output_type": "stream",
       "stream": "stdout",
       "text": [
        "Number of apps that used resizable app widgets: 1118 out of 24419 apps.\n"
       ]
      },
      {
       "metadata": {},
       "output_type": "display_data",
       "png": "[encoded data removed]",
       "text": [
        "<matplotlib.figure.Figure at 0x10c4e2750>"
       ]
      }
     ],
     "prompt_number": 105
    },
    {
     "cell_type": "code",
     "collapsed": false,
     "input": [
      "h = HTML(\"<h2>How many apps introduced resizable home screen widgets in any release?</h2>\"); h"
     ],
     "language": "python",
     "metadata": {},
     "outputs": [
      {
       "html": [
        "<h2>How many apps introduced resizable home screen widgets in any release?</h2>"
       ],
       "metadata": {},
       "output_type": "pyout",
       "prompt_number": 109,
       "text": [
        "<IPython.core.display.HTML at 0x11332ffd0>"
       ]
      }
     ],
     "prompt_number": 109
    },
    {
     "cell_type": "code",
     "collapsed": false,
     "input": [
      "df_resizable_widgets_introduced = find_introduced_in_any_release(df_resizable_widgets, 'resizeMode')\n",
      "len(df_resizable_widgets_introduced)"
     ],
     "language": "python",
     "metadata": {},
     "outputs": [
      {
       "metadata": {},
       "output_type": "pyout",
       "prompt_number": 110,
       "text": [
        "295"
       ]
      }
     ],
     "prompt_number": 110
    },
    {
     "cell_type": "code",
     "collapsed": false,
     "input": [
      "df_resizable_widgets_introduced.head()"
     ],
     "language": "python",
     "metadata": {},
     "outputs": [
      {
       "html": [
        "<div style=\"max-height:1000px;max-width:1500px;overflow:auto;\">\n",
        "<table border=\"1\" class=\"dataframe\">\n",
        "  <thead>\n",
        "    <tr style=\"text-align: right;\">\n",
        "      <th></th>\n",
        "      <th>available_versions</th>\n",
        "      <th>first_supported_version</th>\n",
        "      <th>introduced_this_feature</th>\n",
        "    </tr>\n",
        "    <tr>\n",
        "      <th>package</th>\n",
        "      <th></th>\n",
        "      <th></th>\n",
        "      <th></th>\n",
        "    </tr>\n",
        "  </thead>\n",
        "  <tbody>\n",
        "    <tr>\n",
        "      <th>appsingularity.pillsonthegofree</th>\n",
        "      <td> 2</td>\n",
        "      <td>    20</td>\n",
        "      <td> True</td>\n",
        "    </tr>\n",
        "    <tr>\n",
        "      <th>basarafire.android.app.appsbox</th>\n",
        "      <td> 2</td>\n",
        "      <td>    58</td>\n",
        "      <td> True</td>\n",
        "    </tr>\n",
        "    <tr>\n",
        "      <th>berserker.android.apps.sshdroid</th>\n",
        "      <td> 2</td>\n",
        "      <td>    33</td>\n",
        "      <td> True</td>\n",
        "    </tr>\n",
        "    <tr>\n",
        "      <th>ccc71.pmw</th>\n",
        "      <td> 4</td>\n",
        "      <td> 30900</td>\n",
        "      <td> True</td>\n",
        "    </tr>\n",
        "    <tr>\n",
        "      <th>cellfish.spidermanlwp</th>\n",
        "      <td> 2</td>\n",
        "      <td>    78</td>\n",
        "      <td> True</td>\n",
        "    </tr>\n",
        "  </tbody>\n",
        "</table>\n",
        "</div>"
       ],
       "metadata": {},
       "output_type": "pyout",
       "prompt_number": 111,
       "text": [
        "                                available_versions first_supported_version  \\\n",
        "package                                                                      \n",
        "appsingularity.pillsonthegofree                  2                      20   \n",
        "basarafire.android.app.appsbox                   2                      58   \n",
        "berserker.android.apps.sshdroid                  2                      33   \n",
        "ccc71.pmw                                        4                   30900   \n",
        "cellfish.spidermanlwp                            2                      78   \n",
        "\n",
        "                                introduced_this_feature  \n",
        "package                                                  \n",
        "appsingularity.pillsonthegofree                    True  \n",
        "basarafire.android.app.appsbox                     True  \n",
        "berserker.android.apps.sshdroid                    True  \n",
        "ccc71.pmw                                          True  \n",
        "cellfish.spidermanlwp                              True  "
       ]
      }
     ],
     "prompt_number": 111
    },
    {
     "cell_type": "code",
     "collapsed": false,
     "input": [
      "# How many apps use this horizontal paging ?\n",
      "h = HTML(\"<h2>How many apps still use resizable home screen widgets in their latest release?</h2>\"); h"
     ],
     "language": "python",
     "metadata": {},
     "outputs": [
      {
       "html": [
        "<h2>How many apps still use resizable home screen widgets in their latest release?</h2>"
       ],
       "metadata": {},
       "output_type": "pyout",
       "prompt_number": 112,
       "text": [
        "<IPython.core.display.HTML at 0x10dcdef90>"
       ]
      }
     ],
     "prompt_number": 112
    },
    {
     "cell_type": "code",
     "collapsed": false,
     "input": [
      "df_resizable_widgets_still_using = find_use_in_latest_release(df_resizable_widgets, 'resizeMode')\n",
      "df_resizable_widgets_still_using.head()"
     ],
     "language": "python",
     "metadata": {},
     "outputs": [
      {
       "html": [
        "<div style=\"max-height:1000px;max-width:1500px;overflow:auto;\">\n",
        "<table border=\"1\" class=\"dataframe\">\n",
        "  <thead>\n",
        "    <tr style=\"text-align: right;\">\n",
        "      <th></th>\n",
        "      <th>available_versions</th>\n",
        "      <th>resizeMode_use_in_latest_version</th>\n",
        "      <th>support_this_feature</th>\n",
        "    </tr>\n",
        "    <tr>\n",
        "      <th>package</th>\n",
        "      <th></th>\n",
        "      <th></th>\n",
        "      <th></th>\n",
        "    </tr>\n",
        "  </thead>\n",
        "  <tbody>\n",
        "    <tr>\n",
        "      <th>MaximumWidget.com</th>\n",
        "      <td> 2</td>\n",
        "      <td>     78</td>\n",
        "      <td> True</td>\n",
        "    </tr>\n",
        "    <tr>\n",
        "      <th>Unyverse.pro</th>\n",
        "      <td> 3</td>\n",
        "      <td>    221</td>\n",
        "      <td> True</td>\n",
        "    </tr>\n",
        "    <tr>\n",
        "      <th>aephid.cueBrainLite</th>\n",
        "      <td> 2</td>\n",
        "      <td> 604001</td>\n",
        "      <td> True</td>\n",
        "    </tr>\n",
        "    <tr>\n",
        "      <th>althi.MarineZoo</th>\n",
        "      <td> 2</td>\n",
        "      <td>     18</td>\n",
        "      <td> True</td>\n",
        "    </tr>\n",
        "    <tr>\n",
        "      <th>another.music.player</th>\n",
        "      <td> 2</td>\n",
        "      <td>    123</td>\n",
        "      <td> True</td>\n",
        "    </tr>\n",
        "  </tbody>\n",
        "</table>\n",
        "</div>"
       ],
       "metadata": {},
       "output_type": "pyout",
       "prompt_number": 107,
       "text": [
        "                     available_versions resizeMode_use_in_latest_version  \\\n",
        "package                                                                    \n",
        "MaximumWidget.com                     2                               78   \n",
        "Unyverse.pro                          3                              221   \n",
        "aephid.cueBrainLite                   2                           604001   \n",
        "althi.MarineZoo                       2                               18   \n",
        "another.music.player                  2                              123   \n",
        "\n",
        "                     support_this_feature  \n",
        "package                                    \n",
        "MaximumWidget.com                    True  \n",
        "Unyverse.pro                         True  \n",
        "aephid.cueBrainLite                  True  \n",
        "althi.MarineZoo                      True  \n",
        "another.music.player                 True  "
       ]
      }
     ],
     "prompt_number": 107
    },
    {
     "cell_type": "code",
     "collapsed": false,
     "input": [
      "arr = np.array(df_resizable_widgets_still_using['support_this_feature'], dtype= bool) + 0\n",
      "tmp = df_resizable_widgets_still_using\n",
      "try:\n",
      "    tmp.insert(0, 'binary_value', arr)\n",
      "except ValueError:\n",
      "    pass\n",
      "tmp.groupby('support_this_feature').count().plot(kind='pie', y='binary_value',\n",
      "                      autopct='%1.1f%%', title='Resizable widgets Use in Latest release',\n",
      "                      figsize=(4,4), colors=['r', 'g'], fontsize=20)\n",
      "print('Number of apps that no longer use resizable widgets: ' + \n",
      "      str(len(tmp.loc[tmp.support_this_feature == False])) +\n",
      "      ' out of ' + str(len(tmp)) + ' apps.')"
     ],
     "language": "python",
     "metadata": {},
     "outputs": [
      {
       "output_type": "stream",
       "stream": "stdout",
       "text": [
        "Number of apps that no longer use resizable widgets: 24 out of 1118 apps.\n"
       ]
      },
      {
       "metadata": {},
       "output_type": "display_data",
       "png": "[encoded data removed]",
       "text": [
        "<matplotlib.figure.Figure at 0x113474cd0>"
       ]
      }
     ],
     "prompt_number": 108
    },
    {
     "cell_type": "code",
     "collapsed": false,
     "input": [
      "h = HTML('<h1>3- Tab Layout with TabHost</h1>'); h"
     ],
     "language": "python",
     "metadata": {},
     "outputs": [
      {
       "html": [
        "<h1>3- Tab Layout with TabHost</h1>"
       ],
       "metadata": {},
       "output_type": "pyout",
       "prompt_number": 78,
       "text": [
        "<IPython.core.display.HTML at 0x106aa5c50>"
       ]
      }
     ],
     "prompt_number": 78
    },
    {
     "cell_type": "code",
     "collapsed": false,
     "input": [
      "df_tab_hosts = pd.read_csv('../results/chi-15/ui/find_TabHost.csv')\n",
      "df_tab_hosts.sort(columns=['package','version_code'], inplace=True)\n",
      "df_tab_hosts.set_index(['package','version_code'], inplace=True)\n",
      "df_tab_hosts.head()"
     ],
     "language": "python",
     "metadata": {},
     "outputs": [
      {
       "html": [
        "<div style=\"max-height:1000px;max-width:1500px;overflow:auto;\">\n",
        "<table border=\"1\" class=\"dataframe\">\n",
        "  <thead>\n",
        "    <tr style=\"text-align: right;\">\n",
        "      <th></th>\n",
        "      <th></th>\n",
        "      <th>TabHost</th>\n",
        "    </tr>\n",
        "    <tr>\n",
        "      <th>package</th>\n",
        "      <th>version_code</th>\n",
        "      <th></th>\n",
        "    </tr>\n",
        "  </thead>\n",
        "  <tbody>\n",
        "    <tr>\n",
        "      <th rowspan=\"2\" valign=\"top\">Air.Lite</th>\n",
        "      <th>1 </th>\n",
        "      <td> False</td>\n",
        "    </tr>\n",
        "    <tr>\n",
        "      <th>2 </th>\n",
        "      <td> False</td>\n",
        "    </tr>\n",
        "    <tr>\n",
        "      <th rowspan=\"2\" valign=\"top\">Animaonline.FanFiction.Free</th>\n",
        "      <th>67</th>\n",
        "      <td> False</td>\n",
        "    </tr>\n",
        "    <tr>\n",
        "      <th>72</th>\n",
        "      <td> False</td>\n",
        "    </tr>\n",
        "    <tr>\n",
        "      <th>AutomateIt.mainPackage</th>\n",
        "      <th>79</th>\n",
        "      <td> False</td>\n",
        "    </tr>\n",
        "  </tbody>\n",
        "</table>\n",
        "</div>"
       ],
       "metadata": {},
       "output_type": "pyout",
       "prompt_number": 113,
       "text": [
        "                                         TabHost\n",
        "package                     version_code        \n",
        "Air.Lite                    1              False\n",
        "                            2              False\n",
        "Animaonline.FanFiction.Free 67             False\n",
        "                            72             False\n",
        "AutomateIt.mainPackage      79             False"
       ]
      }
     ],
     "prompt_number": 113
    },
    {
     "cell_type": "code",
     "collapsed": false,
     "input": [
      "h = HTML(\"<h2>How many apps ever used Tab Hosts in any release?</h2>\"); h"
     ],
     "language": "python",
     "metadata": {},
     "outputs": [
      {
       "html": [
        "<h2>How many apps ever used Tab Hosts in any release?</h2>"
       ],
       "metadata": {},
       "output_type": "pyout",
       "prompt_number": 114,
       "text": [
        "<IPython.core.display.HTML at 0x10dcdedd0>"
       ]
      }
     ],
     "prompt_number": 114
    },
    {
     "cell_type": "code",
     "collapsed": false,
     "input": [
      "df_th_use = find_usage_in_any_release(df_tab_hosts, 'TabHost', True)\n",
      "df_th_use.head()"
     ],
     "language": "python",
     "metadata": {},
     "outputs": [
      {
       "html": [
        "<div style=\"max-height:1000px;max-width:1500px;overflow:auto;\">\n",
        "<table border=\"1\" class=\"dataframe\">\n",
        "  <thead>\n",
        "    <tr style=\"text-align: right;\">\n",
        "      <th></th>\n",
        "      <th>available_versions</th>\n",
        "      <th>TabHost_first_supported_version</th>\n",
        "      <th>support_this_feature</th>\n",
        "    </tr>\n",
        "    <tr>\n",
        "      <th>package</th>\n",
        "      <th></th>\n",
        "      <th></th>\n",
        "      <th></th>\n",
        "    </tr>\n",
        "  </thead>\n",
        "  <tbody>\n",
        "    <tr>\n",
        "      <th>Air.Lite</th>\n",
        "      <td> 2</td>\n",
        "      <td> NaN</td>\n",
        "      <td> False</td>\n",
        "    </tr>\n",
        "    <tr>\n",
        "      <th>Animaonline.FanFiction.Free</th>\n",
        "      <td> 2</td>\n",
        "      <td> NaN</td>\n",
        "      <td> False</td>\n",
        "    </tr>\n",
        "    <tr>\n",
        "      <th>AutomateIt.mainPackage</th>\n",
        "      <td> 2</td>\n",
        "      <td> NaN</td>\n",
        "      <td> False</td>\n",
        "    </tr>\n",
        "    <tr>\n",
        "      <th>B4A.Agroid_software</th>\n",
        "      <td> 3</td>\n",
        "      <td> NaN</td>\n",
        "      <td> False</td>\n",
        "    </tr>\n",
        "    <tr>\n",
        "      <th>B4A.BigFivePersonalityTest</th>\n",
        "      <td> 2</td>\n",
        "      <td> NaN</td>\n",
        "      <td> False</td>\n",
        "    </tr>\n",
        "  </tbody>\n",
        "</table>\n",
        "</div>"
       ],
       "metadata": {},
       "output_type": "pyout",
       "prompt_number": 115,
       "text": [
        "                            available_versions  \\\n",
        "package                                          \n",
        "Air.Lite                                     2   \n",
        "Animaonline.FanFiction.Free                  2   \n",
        "AutomateIt.mainPackage                       2   \n",
        "B4A.Agroid_software                          3   \n",
        "B4A.BigFivePersonalityTest                   2   \n",
        "\n",
        "                            TabHost_first_supported_version  \\\n",
        "package                                                       \n",
        "Air.Lite                                                NaN   \n",
        "Animaonline.FanFiction.Free                             NaN   \n",
        "AutomateIt.mainPackage                                  NaN   \n",
        "B4A.Agroid_software                                     NaN   \n",
        "B4A.BigFivePersonalityTest                              NaN   \n",
        "\n",
        "                            support_this_feature  \n",
        "package                                           \n",
        "Air.Lite                                   False  \n",
        "Animaonline.FanFiction.Free                False  \n",
        "AutomateIt.mainPackage                     False  \n",
        "B4A.Agroid_software                        False  \n",
        "B4A.BigFivePersonalityTest                 False  "
       ]
      }
     ],
     "prompt_number": 115
    },
    {
     "cell_type": "code",
     "collapsed": false,
     "input": [
      "arr = np.array(df_th_use['support_this_feature'], dtype= bool) + 0\n",
      "tmp = df_th_use\n",
      "try:\n",
      "    tmp.insert(0, 'binary_value', arr)\n",
      "except ValueError:\n",
      "    pass\n",
      "tmp.groupby('support_this_feature').count().plot(kind='pie', y='binary_value',\n",
      "                      autopct='%1.1f%%', title='Tab Hosts Use.',\n",
      "                      figsize=(4,4), colors=['r', 'g'], fontsize=20)\n",
      "print('Number of apps that used TabHosts: ' + \n",
      "      str(len(tmp.loc[tmp.support_this_feature == True])) +\n",
      "      ' out of ' + str(len(tmp)) + ' apps.')"
     ],
     "language": "python",
     "metadata": {},
     "outputs": [
      {
       "output_type": "stream",
       "stream": "stdout",
       "text": [
        "Number of apps that used TabHosts: 3809 out of 24419 apps.\n"
       ]
      },
      {
       "metadata": {},
       "output_type": "display_data",
       "png": "[encoded data removed]",
       "text": [
        "<matplotlib.figure.Figure at 0x1135dca10>"
       ]
      }
     ],
     "prompt_number": 116
    },
    {
     "cell_type": "code",
     "collapsed": false,
     "input": [
      "h = HTML(\"<h2>How many apps introduced TabHosts in any release?</h2>\"); h"
     ],
     "language": "python",
     "metadata": {},
     "outputs": [
      {
       "html": [
        "<h2>How many apps introduced TabHosts in any release?</h2>"
       ],
       "metadata": {},
       "output_type": "pyout",
       "prompt_number": 117,
       "text": [
        "<IPython.core.display.HTML at 0x1135ed850>"
       ]
      }
     ],
     "prompt_number": 117
    },
    {
     "cell_type": "code",
     "collapsed": false,
     "input": [
      "df_tab_hosts_introduced = find_introduced_in_any_release(df_tab_hosts, 'TabHost')\n",
      "len(df_tab_hosts_introduced)"
     ],
     "language": "python",
     "metadata": {},
     "outputs": [
      {
       "metadata": {},
       "output_type": "pyout",
       "prompt_number": 118,
       "text": [
        "666"
       ]
      }
     ],
     "prompt_number": 118
    },
    {
     "cell_type": "code",
     "collapsed": false,
     "input": [
      "h = HTML(\"<h2>How many apps still use TabHosts in their latest release?</h2>\"); h"
     ],
     "language": "python",
     "metadata": {},
     "outputs": [
      {
       "html": [
        "<h2>How many apps still use TabHosts in their latest release?</h2>"
       ],
       "metadata": {},
       "output_type": "pyout",
       "prompt_number": 124,
       "text": [
        "<IPython.core.display.HTML at 0x113c89690>"
       ]
      }
     ],
     "prompt_number": 124
    },
    {
     "cell_type": "code",
     "collapsed": false,
     "input": [
      "df_th_still_using = find_use_in_latest_release(df_tab_hosts, 'TabHost')\n",
      "df_th_still_using.head()"
     ],
     "language": "python",
     "metadata": {},
     "outputs": [
      {
       "html": [
        "<div style=\"max-height:1000px;max-width:1500px;overflow:auto;\">\n",
        "<table border=\"1\" class=\"dataframe\">\n",
        "  <thead>\n",
        "    <tr style=\"text-align: right;\">\n",
        "      <th></th>\n",
        "      <th>available_versions</th>\n",
        "      <th>TabHost_use_in_latest_version</th>\n",
        "      <th>support_this_feature</th>\n",
        "    </tr>\n",
        "    <tr>\n",
        "      <th>package</th>\n",
        "      <th></th>\n",
        "      <th></th>\n",
        "      <th></th>\n",
        "    </tr>\n",
        "  </thead>\n",
        "  <tbody>\n",
        "    <tr>\n",
        "      <th>Busan.Subway.f7key.Cauly</th>\n",
        "      <td> 2</td>\n",
        "      <td>  78</td>\n",
        "      <td> True</td>\n",
        "    </tr>\n",
        "    <tr>\n",
        "      <th>CN.MyPrivateMessages</th>\n",
        "      <td> 4</td>\n",
        "      <td> 122</td>\n",
        "      <td> True</td>\n",
        "    </tr>\n",
        "    <tr>\n",
        "      <th>HinKhoj.Dictionary</th>\n",
        "      <td> 2</td>\n",
        "      <td>  60</td>\n",
        "      <td> True</td>\n",
        "    </tr>\n",
        "    <tr>\n",
        "      <th>JellyFish001.T</th>\n",
        "      <td> 2</td>\n",
        "      <td>  38</td>\n",
        "      <td> True</td>\n",
        "    </tr>\n",
        "    <tr>\n",
        "      <th>Jobkorea.AlbamonMJ</th>\n",
        "      <td> 3</td>\n",
        "      <td>  54</td>\n",
        "      <td> True</td>\n",
        "    </tr>\n",
        "  </tbody>\n",
        "</table>\n",
        "</div>"
       ],
       "metadata": {},
       "output_type": "pyout",
       "prompt_number": 120,
       "text": [
        "                         available_versions TabHost_use_in_latest_version  \\\n",
        "package                                                                     \n",
        "Busan.Subway.f7key.Cauly                  2                            78   \n",
        "CN.MyPrivateMessages                      4                           122   \n",
        "HinKhoj.Dictionary                        2                            60   \n",
        "JellyFish001.T                            2                            38   \n",
        "Jobkorea.AlbamonMJ                        3                            54   \n",
        "\n",
        "                         support_this_feature  \n",
        "package                                        \n",
        "Busan.Subway.f7key.Cauly                 True  \n",
        "CN.MyPrivateMessages                     True  \n",
        "HinKhoj.Dictionary                       True  \n",
        "JellyFish001.T                           True  \n",
        "Jobkorea.AlbamonMJ                       True  "
       ]
      }
     ],
     "prompt_number": 120
    },
    {
     "cell_type": "code",
     "collapsed": false,
     "input": [
      "arr = np.array(df_th_still_using['support_this_feature'], dtype= bool) + 0\n",
      "tmp = df_th_still_using\n",
      "try:\n",
      "    tmp.insert(0, 'binary_value', arr)\n",
      "except ValueError:\n",
      "    pass\n",
      "tmp.groupby('support_this_feature').count().plot(kind='pie', y='binary_value',\n",
      "                      autopct='%1.1f%%', title='TabHosts Use in Latest release',\n",
      "                      figsize=(4,4), colors=['r', 'g'], fontsize=20)\n",
      "print('Number of apps that no longer use TabHosts UIs: ' + \n",
      "      str(len(tmp.loc[tmp.support_this_feature == False])) +\n",
      "      ' out of ' + str(len(tmp)) + ' apps.')"
     ],
     "language": "python",
     "metadata": {},
     "outputs": [
      {
       "output_type": "stream",
       "stream": "stdout",
       "text": [
        "Number of apps that no longer use TabHosts UIs: 413 out of 3809 apps.\n"
       ]
      },
      {
       "metadata": {},
       "output_type": "display_data",
       "png": "[encoded data removed]",
       "text": [
        "<matplotlib.figure.Figure at 0x10cd816d0>"
       ]
      }
     ],
     "prompt_number": 121
    },
    {
     "cell_type": "code",
     "collapsed": false,
     "input": [
      "h = HTML('<h1>4- Fragment</h1>'); h"
     ],
     "language": "python",
     "metadata": {},
     "outputs": [
      {
       "html": [
        "<h1>4- Fragment</h1>"
       ],
       "metadata": {},
       "output_type": "pyout",
       "prompt_number": 79,
       "text": [
        "<IPython.core.display.HTML at 0x10fcf1d50>"
       ]
      }
     ],
     "prompt_number": 79
    },
    {
     "cell_type": "code",
     "collapsed": false,
     "input": [
      "df_fragments = pd.read_csv('../results/chi-15/code/find_fragment.csv')\n",
      "df_fragments.sort(columns=['package','version_code'], inplace=True)\n",
      "df_fragments.set_index(['package','version_code'], inplace=True)\n",
      "df_fragments.head()"
     ],
     "language": "python",
     "metadata": {},
     "outputs": [
      {
       "html": [
        "<div style=\"max-height:1000px;max-width:1500px;overflow:auto;\">\n",
        "<table border=\"1\" class=\"dataframe\">\n",
        "  <thead>\n",
        "    <tr style=\"text-align: right;\">\n",
        "      <th></th>\n",
        "      <th></th>\n",
        "      <th>fragment</th>\n",
        "    </tr>\n",
        "    <tr>\n",
        "      <th>package</th>\n",
        "      <th>version_code</th>\n",
        "      <th></th>\n",
        "    </tr>\n",
        "  </thead>\n",
        "  <tbody>\n",
        "    <tr>\n",
        "      <th rowspan=\"2\" valign=\"top\">Air.Lite</th>\n",
        "      <th>1 </th>\n",
        "      <td> False</td>\n",
        "    </tr>\n",
        "    <tr>\n",
        "      <th>2 </th>\n",
        "      <td>  True</td>\n",
        "    </tr>\n",
        "    <tr>\n",
        "      <th>Animaonline.FanFiction.Free</th>\n",
        "      <th>67</th>\n",
        "      <td>  True</td>\n",
        "    </tr>\n",
        "    <tr>\n",
        "      <th rowspan=\"2\" valign=\"top\">AutomateIt.mainPackage</th>\n",
        "      <th>79</th>\n",
        "      <td>  True</td>\n",
        "    </tr>\n",
        "    <tr>\n",
        "      <th>84</th>\n",
        "      <td>  True</td>\n",
        "    </tr>\n",
        "  </tbody>\n",
        "</table>\n",
        "</div>"
       ],
       "metadata": {},
       "output_type": "pyout",
       "prompt_number": 122,
       "text": [
        "                                         fragment\n",
        "package                     version_code         \n",
        "Air.Lite                    1               False\n",
        "                            2                True\n",
        "Animaonline.FanFiction.Free 67               True\n",
        "AutomateIt.mainPackage      79               True\n",
        "                            84               True"
       ]
      }
     ],
     "prompt_number": 122
    },
    {
     "cell_type": "code",
     "collapsed": false,
     "input": [
      "h = HTML(\"<h2>How many apps ever used Fragments in their UI in any release?</h2>\"); h"
     ],
     "language": "python",
     "metadata": {},
     "outputs": [
      {
       "html": [
        "<h2>How many apps ever used Fragments in their UI in any release?</h2>"
       ],
       "metadata": {},
       "output_type": "pyout",
       "prompt_number": 128,
       "text": [
        "<IPython.core.display.HTML at 0x113c89bd0>"
       ]
      }
     ],
     "prompt_number": 128
    },
    {
     "cell_type": "code",
     "collapsed": false,
     "input": [
      "df_fragments_use = find_usage_in_any_release(df_fragments, 'fragment', True)\n",
      "df_fragments_use.head()"
     ],
     "language": "python",
     "metadata": {},
     "outputs": [
      {
       "html": [
        "<div style=\"max-height:1000px;max-width:1500px;overflow:auto;\">\n",
        "<table border=\"1\" class=\"dataframe\">\n",
        "  <thead>\n",
        "    <tr style=\"text-align: right;\">\n",
        "      <th></th>\n",
        "      <th>available_versions</th>\n",
        "      <th>fragment_first_supported_version</th>\n",
        "      <th>support_this_feature</th>\n",
        "    </tr>\n",
        "    <tr>\n",
        "      <th>package</th>\n",
        "      <th></th>\n",
        "      <th></th>\n",
        "      <th></th>\n",
        "    </tr>\n",
        "  </thead>\n",
        "  <tbody>\n",
        "    <tr>\n",
        "      <th>Air.Lite</th>\n",
        "      <td> 2</td>\n",
        "      <td>   2</td>\n",
        "      <td>  True</td>\n",
        "    </tr>\n",
        "    <tr>\n",
        "      <th>AutomateIt.mainPackage</th>\n",
        "      <td> 2</td>\n",
        "      <td>  79</td>\n",
        "      <td>  True</td>\n",
        "    </tr>\n",
        "    <tr>\n",
        "      <th>B4A.Agroid_software</th>\n",
        "      <td> 2</td>\n",
        "      <td> 122</td>\n",
        "      <td>  True</td>\n",
        "    </tr>\n",
        "    <tr>\n",
        "      <th>B4A.BigFivePersonalityTest</th>\n",
        "      <td> 2</td>\n",
        "      <td> NaN</td>\n",
        "      <td> False</td>\n",
        "    </tr>\n",
        "    <tr>\n",
        "      <th>Busan.Subway.f7key.Cauly</th>\n",
        "      <td> 2</td>\n",
        "      <td> NaN</td>\n",
        "      <td> False</td>\n",
        "    </tr>\n",
        "  </tbody>\n",
        "</table>\n",
        "</div>"
       ],
       "metadata": {},
       "output_type": "pyout",
       "prompt_number": 123,
       "text": [
        "                           available_versions  \\\n",
        "package                                         \n",
        "Air.Lite                                    2   \n",
        "AutomateIt.mainPackage                      2   \n",
        "B4A.Agroid_software                         2   \n",
        "B4A.BigFivePersonalityTest                  2   \n",
        "Busan.Subway.f7key.Cauly                    2   \n",
        "\n",
        "                           fragment_first_supported_version  \\\n",
        "package                                                       \n",
        "Air.Lite                                                  2   \n",
        "AutomateIt.mainPackage                                   79   \n",
        "B4A.Agroid_software                                     122   \n",
        "B4A.BigFivePersonalityTest                              NaN   \n",
        "Busan.Subway.f7key.Cauly                                NaN   \n",
        "\n",
        "                           support_this_feature  \n",
        "package                                          \n",
        "Air.Lite                                   True  \n",
        "AutomateIt.mainPackage                     True  \n",
        "B4A.Agroid_software                        True  \n",
        "B4A.BigFivePersonalityTest                False  \n",
        "Busan.Subway.f7key.Cauly                  False  "
       ]
      }
     ],
     "prompt_number": 123
    },
    {
     "cell_type": "code",
     "collapsed": false,
     "input": [
      "arr = np.array(df_fragments_use['support_this_feature'], dtype= bool) + 0\n",
      "tmp = df_fragments_use\n",
      "try:\n",
      "    tmp.insert(0, 'binary_value', arr)\n",
      "except ValueError:\n",
      "    pass\n",
      "tmp.groupby('support_this_feature').count().plot(kind='pie', y='binary_value',\n",
      "                      autopct='%1.1f%%', title='Fragments Use',\n",
      "                      figsize=(4,4), colors=['r', 'g'], fontsize=20)\n",
      "print('Number of apps that used Fragments: ' + \n",
      "      str(len(tmp.loc[tmp.support_this_feature == True])) +\n",
      "      ' out of ' + str(len(tmp)) + ' apps.')"
     ],
     "language": "python",
     "metadata": {},
     "outputs": [
      {
       "output_type": "stream",
       "stream": "stdout",
       "text": [
        "Number of apps that used Fragments: 3963 out of 14899 apps.\n"
       ]
      },
      {
       "metadata": {},
       "output_type": "display_data",
       "png": "[encoded data removed]",
       "text": [
        "<matplotlib.figure.Figure at 0x10e7ec710>"
       ]
      }
     ],
     "prompt_number": 125
    },
    {
     "cell_type": "code",
     "collapsed": false,
     "input": [
      "h = HTML(\"<h2>How many apps introduced Fragment in any release?</h2>\"); h"
     ],
     "language": "python",
     "metadata": {},
     "outputs": [
      {
       "html": [
        "<h2>How many apps introduced Fragment in any release?</h2>"
       ],
       "metadata": {},
       "output_type": "pyout",
       "prompt_number": 126,
       "text": [
        "<IPython.core.display.HTML at 0x1135ed6d0>"
       ]
      }
     ],
     "prompt_number": 126
    },
    {
     "cell_type": "code",
     "collapsed": false,
     "input": [
      "df_fragments_introduced = find_introduced_in_any_release(df_fragments, 'fragment')\n",
      "len(df_fragments_introduced)"
     ],
     "language": "python",
     "metadata": {},
     "outputs": [
      {
       "metadata": {},
       "output_type": "pyout",
       "prompt_number": 127,
       "text": [
        "1814"
       ]
      }
     ],
     "prompt_number": 127
    },
    {
     "cell_type": "code",
     "collapsed": false,
     "input": [
      "h = HTML(\"<h2>How many apps that use Fragment in their recent release?</h2>\"); h"
     ],
     "language": "python",
     "metadata": {},
     "outputs": [
      {
       "html": [
        "<h2>How many apps that use Fragment in their recent release?</h2>"
       ],
       "metadata": {},
       "output_type": "pyout",
       "prompt_number": 129,
       "text": [
        "<IPython.core.display.HTML at 0x113c89a10>"
       ]
      }
     ],
     "prompt_number": 129
    },
    {
     "cell_type": "code",
     "collapsed": false,
     "input": [
      "df_fragment_still_using = find_use_in_latest_release(df_fragments, 'fragment')\n",
      "df_fragment_still_using.head()"
     ],
     "language": "python",
     "metadata": {},
     "outputs": [
      {
       "html": [
        "<div style=\"max-height:1000px;max-width:1500px;overflow:auto;\">\n",
        "<table border=\"1\" class=\"dataframe\">\n",
        "  <thead>\n",
        "    <tr style=\"text-align: right;\">\n",
        "      <th></th>\n",
        "      <th>available_versions</th>\n",
        "      <th>fragment_use_in_latest_version</th>\n",
        "      <th>support_this_feature</th>\n",
        "    </tr>\n",
        "    <tr>\n",
        "      <th>package</th>\n",
        "      <th></th>\n",
        "      <th></th>\n",
        "      <th></th>\n",
        "    </tr>\n",
        "  </thead>\n",
        "  <tbody>\n",
        "    <tr>\n",
        "      <th>Air.Lite</th>\n",
        "      <td> 2</td>\n",
        "      <td>          2</td>\n",
        "      <td> True</td>\n",
        "    </tr>\n",
        "    <tr>\n",
        "      <th>AutomateIt.mainPackage</th>\n",
        "      <td> 2</td>\n",
        "      <td>         84</td>\n",
        "      <td> True</td>\n",
        "    </tr>\n",
        "    <tr>\n",
        "      <th>B4A.Agroid_software</th>\n",
        "      <td> 2</td>\n",
        "      <td>       2010</td>\n",
        "      <td> True</td>\n",
        "    </tr>\n",
        "    <tr>\n",
        "      <th>CP.iCarCheck</th>\n",
        "      <td> 2</td>\n",
        "      <td> 2101040300</td>\n",
        "      <td> True</td>\n",
        "    </tr>\n",
        "    <tr>\n",
        "      <th>InternetRadio.all</th>\n",
        "      <td> 2</td>\n",
        "      <td>        109</td>\n",
        "      <td> True</td>\n",
        "    </tr>\n",
        "  </tbody>\n",
        "</table>\n",
        "</div>"
       ],
       "metadata": {},
       "output_type": "pyout",
       "prompt_number": 130,
       "text": [
        "                       available_versions fragment_use_in_latest_version  \\\n",
        "package                                                                    \n",
        "Air.Lite                                2                              2   \n",
        "AutomateIt.mainPackage                  2                             84   \n",
        "B4A.Agroid_software                     2                           2010   \n",
        "CP.iCarCheck                            2                     2101040300   \n",
        "InternetRadio.all                       2                            109   \n",
        "\n",
        "                       support_this_feature  \n",
        "package                                      \n",
        "Air.Lite                               True  \n",
        "AutomateIt.mainPackage                 True  \n",
        "B4A.Agroid_software                    True  \n",
        "CP.iCarCheck                           True  \n",
        "InternetRadio.all                      True  "
       ]
      }
     ],
     "prompt_number": 130
    },
    {
     "cell_type": "code",
     "collapsed": false,
     "input": [
      "arr = np.array(df_fragment_still_using['support_this_feature'], dtype= bool) + 0\n",
      "tmp = df_fragment_still_using\n",
      "try:\n",
      "    tmp.insert(0, 'binary_value', arr)\n",
      "except ValueError:\n",
      "    pass\n",
      "tmp.groupby('support_this_feature').count().plot(kind='pie', y='binary_value',\n",
      "                      autopct='%1.1f%%', title='Fragment Use in Latest release',\n",
      "                      figsize=(4,4), colors=['r', 'g'], fontsize=20)\n",
      "print('Number of apps that no longer use Fragments: ' + \n",
      "      str(len(tmp.loc[tmp.support_this_feature == False])) +\n",
      "      ' out of ' + str(len(tmp)) + ' apps.')"
     ],
     "language": "python",
     "metadata": {},
     "outputs": [
      {
       "output_type": "stream",
       "stream": "stdout",
       "text": [
        "Number of apps that no longer use Fragments: 137 out of 3963 apps.\n"
       ]
      },
      {
       "metadata": {},
       "output_type": "display_data",
       "png": "[encoded data removed]",
       "text": [
        "<matplotlib.figure.Figure at 0x10e80af10>"
       ]
      }
     ],
     "prompt_number": 131
    },
    {
     "cell_type": "code",
     "collapsed": false,
     "input": [
      "h = HTML('<h1>5- Horizontal Paging</h1>'); h"
     ],
     "language": "python",
     "metadata": {},
     "outputs": [
      {
       "html": [
        "<h1>5- Horizontal Paging</h1>"
       ],
       "metadata": {},
       "output_type": "pyout",
       "prompt_number": 132,
       "text": [
        "<IPython.core.display.HTML at 0x1135edb90>"
       ]
      }
     ],
     "prompt_number": 132
    },
    {
     "cell_type": "code",
     "collapsed": false,
     "input": [
      "df_h_paging = pd.read_csv('../results/chi-15/ui/android.support.v4.view.ViewPager.csv')\n",
      "df_h_paging.set_index(['package','version_code'], inplace=True)\n",
      "df_h_paging.head()"
     ],
     "language": "python",
     "metadata": {},
     "outputs": [
      {
       "html": [
        "<div style=\"max-height:1000px;max-width:1500px;overflow:auto;\">\n",
        "<table border=\"1\" class=\"dataframe\">\n",
        "  <thead>\n",
        "    <tr style=\"text-align: right;\">\n",
        "      <th></th>\n",
        "      <th></th>\n",
        "      <th>use_android.support.v4.view.ViewPager_elements</th>\n",
        "      <th>count</th>\n",
        "      <th> files</th>\n",
        "    </tr>\n",
        "    <tr>\n",
        "      <th>package</th>\n",
        "      <th>version_code</th>\n",
        "      <th></th>\n",
        "      <th></th>\n",
        "      <th></th>\n",
        "    </tr>\n",
        "  </thead>\n",
        "  <tbody>\n",
        "    <tr>\n",
        "      <th>com.monotype.android.font.fonts4fun.metal</th>\n",
        "      <th>15 </th>\n",
        "      <td> False</td>\n",
        "      <td> 0</td>\n",
        "      <td>                                               NaN</td>\n",
        "    </tr>\n",
        "    <tr>\n",
        "      <th>com.airkast.WKJSFM</th>\n",
        "      <th>36 </th>\n",
        "      <td> False</td>\n",
        "      <td> 0</td>\n",
        "      <td>                                               NaN</td>\n",
        "    </tr>\n",
        "    <tr>\n",
        "      <th>com.ibsys.app.pns_jax</th>\n",
        "      <th>855</th>\n",
        "      <td>  True</td>\n",
        "      <td> 5</td>\n",
        "      <td> layout/weather_pager.xml|layout/closings.xml|l...</td>\n",
        "    </tr>\n",
        "    <tr>\n",
        "      <th>com.knu.ibuttons</th>\n",
        "      <th>12 </th>\n",
        "      <td> False</td>\n",
        "      <td> 0</td>\n",
        "      <td>                                               NaN</td>\n",
        "    </tr>\n",
        "    <tr>\n",
        "      <th>com.icaw.guessthecar</th>\n",
        "      <th>15 </th>\n",
        "      <td> False</td>\n",
        "      <td> 0</td>\n",
        "      <td>                                               NaN</td>\n",
        "    </tr>\n",
        "  </tbody>\n",
        "</table>\n",
        "</div>"
       ],
       "metadata": {},
       "output_type": "pyout",
       "prompt_number": 133,
       "text": [
        "                                                       use_android.support.v4.view.ViewPager_elements  \\\n",
        "package                                   version_code                                                  \n",
        "com.monotype.android.font.fonts4fun.metal 15                                                    False   \n",
        "com.airkast.WKJSFM                        36                                                    False   \n",
        "com.ibsys.app.pns_jax                     855                                                    True   \n",
        "com.knu.ibuttons                          12                                                    False   \n",
        "com.icaw.guessthecar                      15                                                    False   \n",
        "\n",
        "                                                        count  \\\n",
        "package                                   version_code          \n",
        "com.monotype.android.font.fonts4fun.metal 15                0   \n",
        "com.airkast.WKJSFM                        36                0   \n",
        "com.ibsys.app.pns_jax                     855               5   \n",
        "com.knu.ibuttons                          12                0   \n",
        "com.icaw.guessthecar                      15                0   \n",
        "\n",
        "                                                                                                    files  \n",
        "package                                   version_code                                                     \n",
        "com.monotype.android.font.fonts4fun.metal 15                                                          NaN  \n",
        "com.airkast.WKJSFM                        36                                                          NaN  \n",
        "com.ibsys.app.pns_jax                     855           layout/weather_pager.xml|layout/closings.xml|l...  \n",
        "com.knu.ibuttons                          12                                                          NaN  \n",
        "com.icaw.guessthecar                      15                                                          NaN  "
       ]
      }
     ],
     "prompt_number": 133
    },
    {
     "cell_type": "code",
     "collapsed": false,
     "input": [
      "h = HTML(\"<h2>How many apps ever used Horizontal Paging in any release?</h2>\"); h"
     ],
     "language": "python",
     "metadata": {},
     "outputs": [
      {
       "html": [
        "<h2>How many apps ever used Horizontal Paging in any release?</h2>"
       ],
       "metadata": {},
       "output_type": "pyout",
       "prompt_number": 134,
       "text": [
        "<IPython.core.display.HTML at 0x1135edcd0>"
       ]
      }
     ],
     "prompt_number": 134
    },
    {
     "cell_type": "code",
     "collapsed": false,
     "input": [
      "df_h_paging_adoption = find_usage_in_any_release(df_h_paging, 'use_android.support.v4.view.ViewPager_elements', True)\n",
      "df_h_paging_adoption.head()"
     ],
     "language": "python",
     "metadata": {},
     "outputs": [],
     "prompt_number": 160
    },
    {
     "cell_type": "code",
     "collapsed": false,
     "input": [
      "arr = np.array(df_h_paging_adoption['support_this_feature'], dtype= bool) + 0\n",
      "tmp = df_h_paging_adoption\n",
      "try:\n",
      "    tmp.insert(0, 'binary_value', arr)\n",
      "except ValueError:\n",
      "    pass\n",
      "tmp.groupby('support_this_feature').count().plot(kind='pie', y='binary_value',\n",
      "                      autopct='%1.1f%%', title='Horizontal Paging Use',\n",
      "                      figsize=(4,4), colors=['r', 'g'], fontsize=20)\n",
      "print('Number of apps that use Horizontal Paging: ' + \n",
      "      str(len(tmp.loc[tmp.support_this_feature == True])) +\n",
      "      ' out of ' + str(len(tmp)) + ' apps.')\n",
      "h_paging_total = len(tmp.loc[tmp.support_this_feature == True])"
     ],
     "language": "python",
     "metadata": {},
     "outputs": [
      {
       "output_type": "stream",
       "stream": "stdout",
       "text": [
        "Number of apps that use Horizontal Paging: 4524 out of 22162 apps.\n"
       ]
      },
      {
       "metadata": {},
       "output_type": "display_data",
       "png": "[encoded data removed]",
       "text": [
        "<matplotlib.figure.Figure at 0x10e7ecad0>"
       ]
      }
     ],
     "prompt_number": 164
    },
    {
     "cell_type": "code",
     "collapsed": false,
     "input": [
      "h = HTML(\"<h2>How many apps introduced Horizontal Paging in any release?</h2>\"); h"
     ],
     "language": "python",
     "metadata": {},
     "outputs": [
      {
       "html": [
        "<h2>How many apps introduced Horizontal Paging in any release?</h2>"
       ],
       "metadata": {},
       "output_type": "pyout",
       "prompt_number": 136,
       "text": [
        "<IPython.core.display.HTML at 0x1135edb10>"
       ]
      }
     ],
     "prompt_number": 136
    },
    {
     "cell_type": "code",
     "collapsed": false,
     "input": [
      "df_h_paging_introduced = find_introduced_in_any_release(df_h_paging, 'use_android.support.v4.view.ViewPager_elements')\n",
      "n = len(df_h_paging_introduced)\n",
      "p = '{percent:.1%}'.format(percent=n/h_paging_total)\n",
      "print(str(n) + \"(\" + p + \") apps\" )"
     ],
     "language": "python",
     "metadata": {},
     "outputs": [
      {
       "output_type": "stream",
       "stream": "stdout",
       "text": [
        "941(20.8%) apps\n"
       ]
      }
     ],
     "prompt_number": 166
    },
    {
     "cell_type": "code",
     "collapsed": false,
     "input": [
      "h = HTML(\"<h2>How many apps that use Horizontal Paging in their latest release?</h2>\"); h"
     ],
     "language": "python",
     "metadata": {},
     "outputs": [
      {
       "html": [
        "<h2>How many apps that use Horizontal Paging in their latest release?</h2>"
       ],
       "metadata": {},
       "output_type": "pyout",
       "prompt_number": 142,
       "text": [
        "<IPython.core.display.HTML at 0x1135ed8d0>"
       ]
      }
     ],
     "prompt_number": 142
    },
    {
     "cell_type": "code",
     "collapsed": false,
     "input": [
      "df_h_still_using = find_use_in_latest_release(df_h_paging, 'use_android.support.v4.view.ViewPager_elements')\n",
      "df_h_still_using.head()"
     ],
     "language": "python",
     "metadata": {},
     "outputs": [
      {
       "html": [
        "<div style=\"max-height:1000px;max-width:1500px;overflow:auto;\">\n",
        "<table border=\"1\" class=\"dataframe\">\n",
        "  <thead>\n",
        "    <tr style=\"text-align: right;\">\n",
        "      <th></th>\n",
        "      <th>available_versions</th>\n",
        "      <th>use_android.support.v4.view.ViewPager_elements_use_in_latest_version</th>\n",
        "      <th>support_this_feature</th>\n",
        "    </tr>\n",
        "    <tr>\n",
        "      <th>package</th>\n",
        "      <th></th>\n",
        "      <th></th>\n",
        "      <th></th>\n",
        "    </tr>\n",
        "  </thead>\n",
        "  <tbody>\n",
        "    <tr>\n",
        "      <th>com.ibsys.app.pns_jax</th>\n",
        "      <td> 2</td>\n",
        "      <td>       974</td>\n",
        "      <td> True</td>\n",
        "    </tr>\n",
        "    <tr>\n",
        "      <th>com.mdv.IrelandCompanion</th>\n",
        "      <td> 2</td>\n",
        "      <td>       123</td>\n",
        "      <td> True</td>\n",
        "    </tr>\n",
        "    <tr>\n",
        "      <th>com.benigumo.kaomoji</th>\n",
        "      <td> 8</td>\n",
        "      <td> 201406220</td>\n",
        "      <td> True</td>\n",
        "    </tr>\n",
        "    <tr>\n",
        "      <th>com.priceline.android.negotiator</th>\n",
        "      <td> 4</td>\n",
        "      <td>        96</td>\n",
        "      <td> True</td>\n",
        "    </tr>\n",
        "    <tr>\n",
        "      <th>ru.tentracks.android</th>\n",
        "      <td> 2</td>\n",
        "      <td>        40</td>\n",
        "      <td> True</td>\n",
        "    </tr>\n",
        "  </tbody>\n",
        "</table>\n",
        "</div>"
       ],
       "metadata": {},
       "output_type": "pyout",
       "prompt_number": 143,
       "text": [
        "                                 available_versions  \\\n",
        "package                                               \n",
        "com.ibsys.app.pns_jax                             2   \n",
        "com.mdv.IrelandCompanion                          2   \n",
        "com.benigumo.kaomoji                              8   \n",
        "com.priceline.android.negotiator                  4   \n",
        "ru.tentracks.android                              2   \n",
        "\n",
        "                                 use_android.support.v4.view.ViewPager_elements_use_in_latest_version  \\\n",
        "package                                                                                                 \n",
        "com.ibsys.app.pns_jax                                                           974                     \n",
        "com.mdv.IrelandCompanion                                                        123                     \n",
        "com.benigumo.kaomoji                                                      201406220                     \n",
        "com.priceline.android.negotiator                                                 96                     \n",
        "ru.tentracks.android                                                             40                     \n",
        "\n",
        "                                 support_this_feature  \n",
        "package                                                \n",
        "com.ibsys.app.pns_jax                            True  \n",
        "com.mdv.IrelandCompanion                         True  \n",
        "com.benigumo.kaomoji                             True  \n",
        "com.priceline.android.negotiator                 True  \n",
        "ru.tentracks.android                             True  "
       ]
      }
     ],
     "prompt_number": 143
    },
    {
     "cell_type": "code",
     "collapsed": false,
     "input": [
      "arr = np.array(df_h_still_using['support_this_feature'], dtype= bool) + 0\n",
      "tmp = df_h_still_using\n",
      "try:\n",
      "    tmp.insert(0, 'binary_value', arr)\n",
      "except ValueError:\n",
      "    pass\n",
      "tmp.groupby('support_this_feature').count().plot(kind='pie', y='binary_value',\n",
      "                      autopct='%1.1f%%', title='Horizontal Paging Use in Latest release',\n",
      "                      figsize=(4,4), colors=['r', 'g'], fontsize=20)\n",
      "print('Number of apps that no longer use Horizontal Paging: ' + \n",
      "      str(len(tmp.loc[tmp.support_this_feature == False])) +\n",
      "      ' out of ' + str(len(tmp)) + ' apps.')"
     ],
     "language": "python",
     "metadata": {},
     "outputs": [
      {
       "output_type": "stream",
       "stream": "stdout",
       "text": [
        "Number of apps that no longer use Horizontal Paging: 149 out of 4524 apps.\n"
       ]
      },
      {
       "metadata": {},
       "output_type": "display_data",
       "png": "[encoded data removed]",
       "text": [
        "<matplotlib.figure.Figure at 0x10e117dd0>"
       ]
      }
     ],
     "prompt_number": 144
    },
    {
     "cell_type": "code",
     "collapsed": false,
     "input": [
      "h = HTML('<h1>6- ActionBar with Tabs</h1>'); h"
     ],
     "language": "python",
     "metadata": {},
     "outputs": [
      {
       "html": [
        "<h1>6- ActionBar with Tabs</h1>"
       ],
       "metadata": {},
       "output_type": "pyout",
       "prompt_number": 81,
       "text": [
        "<IPython.core.display.HTML at 0x10871b9d0>"
       ]
      }
     ],
     "prompt_number": 81
    },
    {
     "cell_type": "code",
     "collapsed": false,
     "input": [
      "df_actionTabs = pd.read_csv('../results/chi-15/code/find_ActionBar.csv')\n",
      "df_actionTabs.sort(columns=['package','version_code'], inplace=True)\n",
      "df_actionTabs.set_index(['package','version_code'], inplace=True)\n",
      "df_actionTabs.head()"
     ],
     "language": "python",
     "metadata": {},
     "outputs": [
      {
       "html": [
        "<div style=\"max-height:1000px;max-width:1500px;overflow:auto;\">\n",
        "<table border=\"1\" class=\"dataframe\">\n",
        "  <thead>\n",
        "    <tr style=\"text-align: right;\">\n",
        "      <th></th>\n",
        "      <th></th>\n",
        "      <th>actionBar_TabListener</th>\n",
        "    </tr>\n",
        "    <tr>\n",
        "      <th>package</th>\n",
        "      <th>version_code</th>\n",
        "      <th></th>\n",
        "    </tr>\n",
        "  </thead>\n",
        "  <tbody>\n",
        "    <tr>\n",
        "      <th rowspan=\"2\" valign=\"top\">Air.Lite</th>\n",
        "      <th>1 </th>\n",
        "      <td> False</td>\n",
        "    </tr>\n",
        "    <tr>\n",
        "      <th>2 </th>\n",
        "      <td> False</td>\n",
        "    </tr>\n",
        "    <tr>\n",
        "      <th rowspan=\"2\" valign=\"top\">Animaonline.FanFiction.Free</th>\n",
        "      <th>67</th>\n",
        "      <td>  True</td>\n",
        "    </tr>\n",
        "    <tr>\n",
        "      <th>72</th>\n",
        "      <td>  True</td>\n",
        "    </tr>\n",
        "    <tr>\n",
        "      <th>AutomateIt.mainPackage</th>\n",
        "      <th>79</th>\n",
        "      <td>  True</td>\n",
        "    </tr>\n",
        "  </tbody>\n",
        "</table>\n",
        "</div>"
       ],
       "metadata": {},
       "output_type": "pyout",
       "prompt_number": 169,
       "text": [
        "                                         actionBar_TabListener\n",
        "package                     version_code                      \n",
        "Air.Lite                    1                            False\n",
        "                            2                            False\n",
        "Animaonline.FanFiction.Free 67                            True\n",
        "                            72                            True\n",
        "AutomateIt.mainPackage      79                            True"
       ]
      }
     ],
     "prompt_number": 169
    },
    {
     "cell_type": "code",
     "collapsed": false,
     "input": [
      "h = HTML(\"<h2>How many apps ever used ActionBar with Tabs in any release?</h2>\"); h"
     ],
     "language": "python",
     "metadata": {},
     "outputs": [
      {
       "html": [
        "<h2>How many apps ever used ActionBar with Tabs in any release?</h2>"
       ],
       "metadata": {},
       "output_type": "pyout",
       "prompt_number": 178,
       "text": [
        "<IPython.core.display.HTML at 0x109280710>"
       ]
      }
     ],
     "prompt_number": 178
    },
    {
     "cell_type": "code",
     "collapsed": false,
     "input": [
      "df_actionBarTabs_use = find_usage_in_any_release(df_actionTabs, 'actionBar_TabListener', True)\n",
      "df_actionBarTabs_use.head()"
     ],
     "language": "python",
     "metadata": {},
     "outputs": [
      {
       "html": [
        "<div style=\"max-height:1000px;max-width:1500px;overflow:auto;\">\n",
        "<table border=\"1\" class=\"dataframe\">\n",
        "  <thead>\n",
        "    <tr style=\"text-align: right;\">\n",
        "      <th></th>\n",
        "      <th>available_versions</th>\n",
        "      <th>actionBar_TabListener_first_supported_version</th>\n",
        "      <th>support_this_feature</th>\n",
        "    </tr>\n",
        "    <tr>\n",
        "      <th>package</th>\n",
        "      <th></th>\n",
        "      <th></th>\n",
        "      <th></th>\n",
        "    </tr>\n",
        "  </thead>\n",
        "  <tbody>\n",
        "    <tr>\n",
        "      <th>Air.Lite</th>\n",
        "      <td> 2</td>\n",
        "      <td> NaN</td>\n",
        "      <td> False</td>\n",
        "    </tr>\n",
        "    <tr>\n",
        "      <th>Animaonline.FanFiction.Free</th>\n",
        "      <td> 2</td>\n",
        "      <td>  67</td>\n",
        "      <td>  True</td>\n",
        "    </tr>\n",
        "    <tr>\n",
        "      <th>AutomateIt.mainPackage</th>\n",
        "      <td> 2</td>\n",
        "      <td>  79</td>\n",
        "      <td>  True</td>\n",
        "    </tr>\n",
        "    <tr>\n",
        "      <th>B4A.Agroid_software</th>\n",
        "      <td> 2</td>\n",
        "      <td> NaN</td>\n",
        "      <td> False</td>\n",
        "    </tr>\n",
        "    <tr>\n",
        "      <th>B4A.BigFivePersonalityTest</th>\n",
        "      <td> 2</td>\n",
        "      <td> NaN</td>\n",
        "      <td> False</td>\n",
        "    </tr>\n",
        "  </tbody>\n",
        "</table>\n",
        "</div>"
       ],
       "metadata": {},
       "output_type": "pyout",
       "prompt_number": 170,
       "text": [
        "                            available_versions  \\\n",
        "package                                          \n",
        "Air.Lite                                     2   \n",
        "Animaonline.FanFiction.Free                  2   \n",
        "AutomateIt.mainPackage                       2   \n",
        "B4A.Agroid_software                          2   \n",
        "B4A.BigFivePersonalityTest                   2   \n",
        "\n",
        "                            actionBar_TabListener_first_supported_version  \\\n",
        "package                                                                     \n",
        "Air.Lite                                                              NaN   \n",
        "Animaonline.FanFiction.Free                                            67   \n",
        "AutomateIt.mainPackage                                                 79   \n",
        "B4A.Agroid_software                                                   NaN   \n",
        "B4A.BigFivePersonalityTest                                            NaN   \n",
        "\n",
        "                            support_this_feature  \n",
        "package                                           \n",
        "Air.Lite                                   False  \n",
        "Animaonline.FanFiction.Free                 True  \n",
        "AutomateIt.mainPackage                      True  \n",
        "B4A.Agroid_software                        False  \n",
        "B4A.BigFivePersonalityTest                 False  "
       ]
      }
     ],
     "prompt_number": 170
    },
    {
     "cell_type": "code",
     "collapsed": false,
     "input": [
      "arr = np.array(df_actionBarTabs_use['support_this_feature'], dtype= bool) + 0\n",
      "tmp = df_actionBarTabs_use\n",
      "try:\n",
      "    tmp.insert(0, 'binary_value', arr)\n",
      "except ValueError:\n",
      "    pass\n",
      "tmp.groupby('support_this_feature').count().plot(kind='pie', y='binary_value',\n",
      "                      autopct='%1.1f%%', title='Action Bar with Tabs Use',\n",
      "                      figsize=(4,4), colors=['r', 'g'], fontsize=20)\n",
      "print('Number of apps that used Action Bar with Tabs: ' + \n",
      "      str(len(tmp.loc[tmp.support_this_feature == True])) +\n",
      "      ' out of ' + str(len(tmp)) + ' apps.')\n",
      "actionBarTabs_total = len(tmp.loc[tmp.support_this_feature == True])"
     ],
     "language": "python",
     "metadata": {},
     "outputs": [
      {
       "output_type": "stream",
       "stream": "stdout",
       "text": [
        "Number of apps that used Action Bar with Tabs: 8483 out of 21004 apps.\n"
       ]
      },
      {
       "metadata": {},
       "output_type": "display_data",
       "png": "[encoded data removed]",
       "text": [
        "<matplotlib.figure.Figure at 0x10dfa2510>"
       ]
      }
     ],
     "prompt_number": 171
    },
    {
     "cell_type": "code",
     "collapsed": false,
     "input": [
      "h = HTML(\"<h2>How many apps introduced ActionBar with Tabs in any recent release?</h2>\"); h"
     ],
     "language": "python",
     "metadata": {},
     "outputs": [
      {
       "html": [
        "<h2>How many apps introduced ActionBar with Tabs in any recent release?</h2>"
       ],
       "metadata": {},
       "output_type": "pyout",
       "prompt_number": 179,
       "text": [
        "<IPython.core.display.HTML at 0x11347e990>"
       ]
      }
     ],
     "prompt_number": 179
    },
    {
     "cell_type": "code",
     "collapsed": false,
     "input": [
      "df_actionBarTabs_introduced = find_introduced_in_any_release(df_actionTabs, 'actionBar_TabListener')\n",
      "n = len(df_actionBarTabs_introduced)\n",
      "p = '{percent:.1%}'.format(percent=n/actionBarTabs_total)\n",
      "print(str(n) + \"(\" + p + \") apps\" )"
     ],
     "language": "python",
     "metadata": {},
     "outputs": [
      {
       "output_type": "stream",
       "stream": "stdout",
       "text": [
        "2729(32.2%) apps\n"
       ]
      }
     ],
     "prompt_number": 172
    },
    {
     "cell_type": "code",
     "collapsed": false,
     "input": [
      "h = HTML(\"<h2>How many apps that use ActionBar with Tabs in their latest release?</h2>\"); h"
     ],
     "language": "python",
     "metadata": {},
     "outputs": [
      {
       "html": [
        "<h2>How many apps that use ActionBar with Tabs in their latest release?</h2>"
       ],
       "metadata": {},
       "output_type": "pyout",
       "prompt_number": 177,
       "text": [
        "<IPython.core.display.HTML at 0x1132ba4d0>"
       ]
      }
     ],
     "prompt_number": 177
    },
    {
     "cell_type": "code",
     "collapsed": false,
     "input": [
      "df_actionTabs_still_using = find_use_in_latest_release(df_actionTabs, 'actionBar_TabListener')\n",
      "df_actionTabs_still_using.head()"
     ],
     "language": "python",
     "metadata": {},
     "outputs": [
      {
       "html": [
        "<div style=\"max-height:1000px;max-width:1500px;overflow:auto;\">\n",
        "<table border=\"1\" class=\"dataframe\">\n",
        "  <thead>\n",
        "    <tr style=\"text-align: right;\">\n",
        "      <th></th>\n",
        "      <th>available_versions</th>\n",
        "      <th>actionBar_TabListener_use_in_latest_version</th>\n",
        "      <th>support_this_feature</th>\n",
        "    </tr>\n",
        "    <tr>\n",
        "      <th>package</th>\n",
        "      <th></th>\n",
        "      <th></th>\n",
        "      <th></th>\n",
        "    </tr>\n",
        "  </thead>\n",
        "  <tbody>\n",
        "    <tr>\n",
        "      <th>Animaonline.FanFiction.Free</th>\n",
        "      <td> 2</td>\n",
        "      <td>         72</td>\n",
        "      <td> True</td>\n",
        "    </tr>\n",
        "    <tr>\n",
        "      <th>AutomateIt.mainPackage</th>\n",
        "      <td> 2</td>\n",
        "      <td>         84</td>\n",
        "      <td> True</td>\n",
        "    </tr>\n",
        "    <tr>\n",
        "      <th>CN.MyPrivateMessages</th>\n",
        "      <td> 4</td>\n",
        "      <td>        122</td>\n",
        "      <td> True</td>\n",
        "    </tr>\n",
        "    <tr>\n",
        "      <th>CP.iCarCheck</th>\n",
        "      <td> 2</td>\n",
        "      <td> 2101040300</td>\n",
        "      <td> True</td>\n",
        "    </tr>\n",
        "    <tr>\n",
        "      <th>DsgUI.android</th>\n",
        "      <td> 2</td>\n",
        "      <td>          7</td>\n",
        "      <td> True</td>\n",
        "    </tr>\n",
        "  </tbody>\n",
        "</table>\n",
        "</div>"
       ],
       "metadata": {},
       "output_type": "pyout",
       "prompt_number": 176,
       "text": [
        "                            available_versions  \\\n",
        "package                                          \n",
        "Animaonline.FanFiction.Free                  2   \n",
        "AutomateIt.mainPackage                       2   \n",
        "CN.MyPrivateMessages                         4   \n",
        "CP.iCarCheck                                 2   \n",
        "DsgUI.android                                2   \n",
        "\n",
        "                            actionBar_TabListener_use_in_latest_version  \\\n",
        "package                                                                   \n",
        "Animaonline.FanFiction.Free                                          72   \n",
        "AutomateIt.mainPackage                                               84   \n",
        "CN.MyPrivateMessages                                                122   \n",
        "CP.iCarCheck                                                 2101040300   \n",
        "DsgUI.android                                                         7   \n",
        "\n",
        "                            support_this_feature  \n",
        "package                                           \n",
        "Animaonline.FanFiction.Free                 True  \n",
        "AutomateIt.mainPackage                      True  \n",
        "CN.MyPrivateMessages                        True  \n",
        "CP.iCarCheck                                True  \n",
        "DsgUI.android                               True  "
       ]
      }
     ],
     "prompt_number": 176
    },
    {
     "cell_type": "code",
     "collapsed": false,
     "input": [
      "arr = np.array(df_actionTabs_still_using['support_this_feature'], dtype= bool) + 0\n",
      "tmp = df_actionTabs_still_using\n",
      "try:\n",
      "    tmp.insert(0, 'binary_value', arr)\n",
      "except ValueError:\n",
      "    pass\n",
      "tmp.groupby('support_this_feature').count().plot(kind='pie', y='binary_value',\n",
      "                      autopct='%1.1f%%', title='ActionBar with Tabs Use in Latest release',\n",
      "                      figsize=(4,4), colors=['r', 'g'], fontsize=20)\n",
      "print('Number of apps that no longer use ActionBar with Tabs: ' + \n",
      "      str(len(tmp.loc[tmp.support_this_feature == False])) +\n",
      "      ' out of ' + str(len(tmp)) + ' apps.')"
     ],
     "language": "python",
     "metadata": {},
     "outputs": [
      {
       "output_type": "stream",
       "stream": "stdout",
       "text": [
        "Number of apps that no longer use ActionBar with Tabs: 329 out of 8483 apps.\n"
       ]
      },
      {
       "metadata": {},
       "output_type": "display_data",
       "png": "[encoded data removed]",
       "text": [
        "<matplotlib.figure.Figure at 0x10c87d910>"
       ]
      }
     ],
     "prompt_number": 180
    },
    {
     "cell_type": "code",
     "collapsed": false,
     "input": [
      "h = HTML('<h1>7- Up Navigation</h1>'); h"
     ],
     "language": "python",
     "metadata": {},
     "outputs": [
      {
       "html": [
        "<h1>7- Up Navigation</h1>"
       ],
       "metadata": {},
       "output_type": "pyout",
       "prompt_number": 181,
       "text": [
        "<IPython.core.display.HTML at 0x117353a50>"
       ]
      }
     ],
     "prompt_number": 181
    },
    {
     "cell_type": "code",
     "collapsed": false,
     "input": [
      "df_up_nav = pd.read_csv('../results/chi-15/code/find_upNavigation2.csv')\n",
      "df_up_nav.sort(columns=['package','version_code'], inplace=True)\n",
      "df_up_nav.set_index(['package','version_code'], inplace=True)\n",
      "df_up_nav.head()"
     ],
     "language": "python",
     "metadata": {},
     "outputs": [
      {
       "html": [
        "<div style=\"max-height:1000px;max-width:1500px;overflow:auto;\">\n",
        "<table border=\"1\" class=\"dataframe\">\n",
        "  <thead>\n",
        "    <tr style=\"text-align: right;\">\n",
        "      <th></th>\n",
        "      <th></th>\n",
        "      <th>upNavigation</th>\n",
        "    </tr>\n",
        "    <tr>\n",
        "      <th>package</th>\n",
        "      <th>version_code</th>\n",
        "      <th></th>\n",
        "    </tr>\n",
        "  </thead>\n",
        "  <tbody>\n",
        "    <tr>\n",
        "      <th rowspan=\"2\" valign=\"top\">Air.Lite</th>\n",
        "      <th>1 </th>\n",
        "      <td> False</td>\n",
        "    </tr>\n",
        "    <tr>\n",
        "      <th>2 </th>\n",
        "      <td> False</td>\n",
        "    </tr>\n",
        "    <tr>\n",
        "      <th rowspan=\"2\" valign=\"top\">Animaonline.FanFiction.Free</th>\n",
        "      <th>67</th>\n",
        "      <td>  True</td>\n",
        "    </tr>\n",
        "    <tr>\n",
        "      <th>72</th>\n",
        "      <td>  True</td>\n",
        "    </tr>\n",
        "    <tr>\n",
        "      <th>AutomateIt.mainPackage</th>\n",
        "      <th>79</th>\n",
        "      <td>  True</td>\n",
        "    </tr>\n",
        "  </tbody>\n",
        "</table>\n",
        "</div>"
       ],
       "metadata": {},
       "output_type": "pyout",
       "prompt_number": 187,
       "text": [
        "                                         upNavigation\n",
        "package                     version_code             \n",
        "Air.Lite                    1                   False\n",
        "                            2                   False\n",
        "Animaonline.FanFiction.Free 67                   True\n",
        "                            72                   True\n",
        "AutomateIt.mainPackage      79                   True"
       ]
      }
     ],
     "prompt_number": 187
    },
    {
     "cell_type": "code",
     "collapsed": false,
     "input": [
      "h = HTML(\"<h2>How many apps that use Up Navigation in any release?</h2>\"); h"
     ],
     "language": "python",
     "metadata": {},
     "outputs": [
      {
       "html": [
        "<h2>How many apps that use Up Navigation in any release?</h2>"
       ],
       "metadata": {},
       "output_type": "pyout",
       "prompt_number": 188,
       "text": [
        "<IPython.core.display.HTML at 0x110112b10>"
       ]
      }
     ],
     "prompt_number": 188
    },
    {
     "cell_type": "code",
     "collapsed": false,
     "input": [
      "df_up_nav_use = find_usage_in_any_release(df_up_nav, 'upNavigation', True)\n",
      "df_up_nav_use.head()"
     ],
     "language": "python",
     "metadata": {},
     "outputs": [
      {
       "html": [
        "<div style=\"max-height:1000px;max-width:1500px;overflow:auto;\">\n",
        "<table border=\"1\" class=\"dataframe\">\n",
        "  <thead>\n",
        "    <tr style=\"text-align: right;\">\n",
        "      <th></th>\n",
        "      <th>available_versions</th>\n",
        "      <th>upNavigation_first_supported_version</th>\n",
        "      <th>support_this_feature</th>\n",
        "    </tr>\n",
        "    <tr>\n",
        "      <th>package</th>\n",
        "      <th></th>\n",
        "      <th></th>\n",
        "      <th></th>\n",
        "    </tr>\n",
        "  </thead>\n",
        "  <tbody>\n",
        "    <tr>\n",
        "      <th>Air.Lite</th>\n",
        "      <td> 2</td>\n",
        "      <td> NaN</td>\n",
        "      <td> False</td>\n",
        "    </tr>\n",
        "    <tr>\n",
        "      <th>Animaonline.FanFiction.Free</th>\n",
        "      <td> 2</td>\n",
        "      <td>  67</td>\n",
        "      <td>  True</td>\n",
        "    </tr>\n",
        "    <tr>\n",
        "      <th>AutomateIt.mainPackage</th>\n",
        "      <td> 2</td>\n",
        "      <td>  79</td>\n",
        "      <td>  True</td>\n",
        "    </tr>\n",
        "    <tr>\n",
        "      <th>B4A.Agroid_software</th>\n",
        "      <td> 2</td>\n",
        "      <td> NaN</td>\n",
        "      <td> False</td>\n",
        "    </tr>\n",
        "    <tr>\n",
        "      <th>B4A.BigFivePersonalityTest</th>\n",
        "      <td> 2</td>\n",
        "      <td> NaN</td>\n",
        "      <td> False</td>\n",
        "    </tr>\n",
        "  </tbody>\n",
        "</table>\n",
        "</div>"
       ],
       "metadata": {},
       "output_type": "pyout",
       "prompt_number": 189,
       "text": [
        "                            available_versions  \\\n",
        "package                                          \n",
        "Air.Lite                                     2   \n",
        "Animaonline.FanFiction.Free                  2   \n",
        "AutomateIt.mainPackage                       2   \n",
        "B4A.Agroid_software                          2   \n",
        "B4A.BigFivePersonalityTest                   2   \n",
        "\n",
        "                            upNavigation_first_supported_version  \\\n",
        "package                                                            \n",
        "Air.Lite                                                     NaN   \n",
        "Animaonline.FanFiction.Free                                   67   \n",
        "AutomateIt.mainPackage                                        79   \n",
        "B4A.Agroid_software                                          NaN   \n",
        "B4A.BigFivePersonalityTest                                   NaN   \n",
        "\n",
        "                            support_this_feature  \n",
        "package                                           \n",
        "Air.Lite                                   False  \n",
        "Animaonline.FanFiction.Free                 True  \n",
        "AutomateIt.mainPackage                      True  \n",
        "B4A.Agroid_software                        False  \n",
        "B4A.BigFivePersonalityTest                 False  "
       ]
      }
     ],
     "prompt_number": 189
    },
    {
     "cell_type": "code",
     "collapsed": false,
     "input": [
      "arr = np.array(df_up_nav_use['support_this_feature'], dtype= bool) + 0\n",
      "tmp = df_up_nav_use\n",
      "try:\n",
      "    tmp.insert(0, 'binary_value', arr)\n",
      "except ValueError:\n",
      "    pass\n",
      "tmp.groupby('support_this_feature').count().plot(kind='pie', y='binary_value',\n",
      "                      autopct='%1.1f%%', title='Up Navigation Usage',\n",
      "                      figsize=(4,4), colors=['r', 'g'], fontsize=20)\n",
      "print('Number of apps that used Up Navigation: ' + \n",
      "      str(len(tmp.loc[tmp.support_this_feature == True])) +\n",
      "      ' out of ' + str(len(tmp)) + ' apps.')\n",
      "up_nav_total = len(tmp.loc[tmp.support_this_feature == True])"
     ],
     "language": "python",
     "metadata": {},
     "outputs": [
      {
       "output_type": "stream",
       "stream": "stdout",
       "text": [
        "Number of apps that used Up Navigation: 4431 out of 21004 apps.\n"
       ]
      },
      {
       "metadata": {},
       "output_type": "display_data",
       "png": "[encoded data removed]",
       "text": [
        "<matplotlib.figure.Figure at 0x10ec2d590>"
       ]
      }
     ],
     "prompt_number": 195
    },
    {
     "cell_type": "code",
     "collapsed": false,
     "input": [
      "h = HTML(\"<h2>How many apps introduced Up Navigation in any recent release?</h2>\"); h"
     ],
     "language": "python",
     "metadata": {},
     "outputs": [
      {
       "html": [
        "<h2>How many apps introduced Up Navigation in any recent release?</h2>"
       ],
       "metadata": {},
       "output_type": "pyout",
       "prompt_number": 192,
       "text": [
        "<IPython.core.display.HTML at 0x10ec2dbd0>"
       ]
      }
     ],
     "prompt_number": 192
    },
    {
     "cell_type": "code",
     "collapsed": false,
     "input": [
      "df_up_nav_introduced = find_introduced_in_any_release(df_up_nav, 'upNavigation')\n",
      "n = len(df_up_nav_introduced)\n",
      "p = '{percent:.1%}'.format(percent=n/up_nav_total)\n",
      "print(str(n) + \"(\" + p + \") apps\" )"
     ],
     "language": "python",
     "metadata": {},
     "outputs": [
      {
       "output_type": "stream",
       "stream": "stdout",
       "text": [
        "1257(28.4%) apps\n"
       ]
      }
     ],
     "prompt_number": 197
    },
    {
     "cell_type": "code",
     "collapsed": false,
     "input": [
      "h = HTML(\"<h2>How many apps are using Up Navigation in their latest release?</h2>\"); h"
     ],
     "language": "python",
     "metadata": {},
     "outputs": [
      {
       "html": [
        "<h2>How many apps are using Up Navigation in their latest release?</h2>"
       ],
       "metadata": {},
       "output_type": "pyout",
       "prompt_number": 194,
       "text": [
        "<IPython.core.display.HTML at 0x10ec0e7d0>"
       ]
      }
     ],
     "prompt_number": 194
    },
    {
     "cell_type": "code",
     "collapsed": false,
     "input": [
      "df_up_nav_still_using = find_use_in_latest_release(df_up_nav, 'upNavigation')\n",
      "df_up_nav_still_using.head()"
     ],
     "language": "python",
     "metadata": {},
     "outputs": [
      {
       "html": [
        "<div style=\"max-height:1000px;max-width:1500px;overflow:auto;\">\n",
        "<table border=\"1\" class=\"dataframe\">\n",
        "  <thead>\n",
        "    <tr style=\"text-align: right;\">\n",
        "      <th></th>\n",
        "      <th>available_versions</th>\n",
        "      <th>upNavigation_use_in_latest_version</th>\n",
        "      <th>support_this_feature</th>\n",
        "    </tr>\n",
        "    <tr>\n",
        "      <th>package</th>\n",
        "      <th></th>\n",
        "      <th></th>\n",
        "      <th></th>\n",
        "    </tr>\n",
        "  </thead>\n",
        "  <tbody>\n",
        "    <tr>\n",
        "      <th>Animaonline.FanFiction.Free</th>\n",
        "      <td> 2</td>\n",
        "      <td> 72</td>\n",
        "      <td> True</td>\n",
        "    </tr>\n",
        "    <tr>\n",
        "      <th>AutomateIt.mainPackage</th>\n",
        "      <td> 2</td>\n",
        "      <td> 84</td>\n",
        "      <td> True</td>\n",
        "    </tr>\n",
        "    <tr>\n",
        "      <th>DsgUI.android</th>\n",
        "      <td> 2</td>\n",
        "      <td>  7</td>\n",
        "      <td> True</td>\n",
        "    </tr>\n",
        "    <tr>\n",
        "      <th>HinKhoj.Dictionary</th>\n",
        "      <td> 2</td>\n",
        "      <td> 60</td>\n",
        "      <td> True</td>\n",
        "    </tr>\n",
        "    <tr>\n",
        "      <th>MaximumWidget.com</th>\n",
        "      <td> 2</td>\n",
        "      <td> 78</td>\n",
        "      <td> True</td>\n",
        "    </tr>\n",
        "  </tbody>\n",
        "</table>\n",
        "</div>"
       ],
       "metadata": {},
       "output_type": "pyout",
       "prompt_number": 191,
       "text": [
        "                            available_versions  \\\n",
        "package                                          \n",
        "Animaonline.FanFiction.Free                  2   \n",
        "AutomateIt.mainPackage                       2   \n",
        "DsgUI.android                                2   \n",
        "HinKhoj.Dictionary                           2   \n",
        "MaximumWidget.com                            2   \n",
        "\n",
        "                            upNavigation_use_in_latest_version  \\\n",
        "package                                                          \n",
        "Animaonline.FanFiction.Free                                 72   \n",
        "AutomateIt.mainPackage                                      84   \n",
        "DsgUI.android                                                7   \n",
        "HinKhoj.Dictionary                                          60   \n",
        "MaximumWidget.com                                           78   \n",
        "\n",
        "                            support_this_feature  \n",
        "package                                           \n",
        "Animaonline.FanFiction.Free                 True  \n",
        "AutomateIt.mainPackage                      True  \n",
        "DsgUI.android                               True  \n",
        "HinKhoj.Dictionary                          True  \n",
        "MaximumWidget.com                           True  "
       ]
      }
     ],
     "prompt_number": 191
    },
    {
     "cell_type": "code",
     "collapsed": false,
     "input": [
      "arr = np.array(df_up_nav_still_using['support_this_feature'], dtype= bool) + 0\n",
      "tmp = df_up_nav_still_using\n",
      "try:\n",
      "    tmp.insert(0, 'binary_value', arr)\n",
      "except ValueError:\n",
      "    pass\n",
      "tmp.groupby('support_this_feature').count().plot(kind='pie', y='binary_value',\n",
      "                      autopct='%1.1f%%', title='Up Navigation button Use in Latest release',\n",
      "                      figsize=(4,4), colors=['r', 'g'], fontsize=20)\n",
      "print('Number of apps that no longer use Up Navigation button: ' + \n",
      "      str(len(tmp.loc[tmp.support_this_feature == False])) +\n",
      "      ' out of ' + str(len(tmp)) + ' apps.')\n"
     ],
     "language": "python",
     "metadata": {},
     "outputs": []
    },
    {
     "cell_type": "code",
     "collapsed": false,
     "input": [
      "h = HTML('<h1>8- Navigation Drawers</h1>'); h"
     ],
     "language": "python",
     "metadata": {},
     "outputs": [
      {
       "html": [
        "<h1>8- Navigation Drawers</h1>"
       ],
       "metadata": {},
       "output_type": "pyout",
       "prompt_number": 201,
       "text": [
        "<IPython.core.display.HTML at 0x108a0fe90>"
       ]
      }
     ],
     "prompt_number": 201
    },
    {
     "cell_type": "code",
     "collapsed": false,
     "input": [
      "df_nav_drawer = pd.read_csv('../results/chi-15/ui/find_android.support.v4.widget.DrawerLayout.csv')\n",
      "df_nav_drawer.sort(columns=['package','version_code'], inplace=True)\n",
      "df_nav_drawer.set_index(['package','version_code'], inplace=True)\n",
      "df_nav_drawer.head()"
     ],
     "language": "python",
     "metadata": {},
     "outputs": [
      {
       "html": [
        "<div style=\"max-height:1000px;max-width:1500px;overflow:auto;\">\n",
        "<table border=\"1\" class=\"dataframe\">\n",
        "  <thead>\n",
        "    <tr style=\"text-align: right;\">\n",
        "      <th></th>\n",
        "      <th></th>\n",
        "      <th>android.support.v4.widget.DrawerLayout</th>\n",
        "    </tr>\n",
        "    <tr>\n",
        "      <th>package</th>\n",
        "      <th>version_code</th>\n",
        "      <th></th>\n",
        "    </tr>\n",
        "  </thead>\n",
        "  <tbody>\n",
        "    <tr>\n",
        "      <th rowspan=\"2\" valign=\"top\">Air.Lite</th>\n",
        "      <th>1 </th>\n",
        "      <td> False</td>\n",
        "    </tr>\n",
        "    <tr>\n",
        "      <th>2 </th>\n",
        "      <td> False</td>\n",
        "    </tr>\n",
        "    <tr>\n",
        "      <th rowspan=\"2\" valign=\"top\">Animaonline.FanFiction.Free</th>\n",
        "      <th>67</th>\n",
        "      <td> False</td>\n",
        "    </tr>\n",
        "    <tr>\n",
        "      <th>72</th>\n",
        "      <td> False</td>\n",
        "    </tr>\n",
        "    <tr>\n",
        "      <th>AutomateIt.mainPackage</th>\n",
        "      <th>79</th>\n",
        "      <td> False</td>\n",
        "    </tr>\n",
        "  </tbody>\n",
        "</table>\n",
        "</div>"
       ],
       "metadata": {},
       "output_type": "pyout",
       "prompt_number": 202,
       "text": [
        "                                         android.support.v4.widget.DrawerLayout\n",
        "package                     version_code                                       \n",
        "Air.Lite                    1                                             False\n",
        "                            2                                             False\n",
        "Animaonline.FanFiction.Free 67                                            False\n",
        "                            72                                            False\n",
        "AutomateIt.mainPackage      79                                            False"
       ]
      }
     ],
     "prompt_number": 202
    },
    {
     "cell_type": "code",
     "collapsed": false,
     "input": [
      "h = HTML(\"<h2>How many apps that ever used Navigation Drawers in any release?</h2>\"); h"
     ],
     "language": "python",
     "metadata": {},
     "outputs": [
      {
       "html": [
        "<h2>How many apps that ever used Navigation Drawers in any release?</h2>"
       ],
       "metadata": {},
       "output_type": "pyout",
       "prompt_number": 200,
       "text": [
        "<IPython.core.display.HTML at 0x10e80f1d0>"
       ]
      }
     ],
     "prompt_number": 200
    },
    {
     "cell_type": "code",
     "collapsed": false,
     "input": [
      "df_nav_drawer_use = find_usage_in_any_release(df_nav_drawer, 'android.support.v4.widget.DrawerLayout', True)\n",
      "df_nav_drawer_use.head()"
     ],
     "language": "python",
     "metadata": {},
     "outputs": [
      {
       "html": [
        "<div style=\"max-height:1000px;max-width:1500px;overflow:auto;\">\n",
        "<table border=\"1\" class=\"dataframe\">\n",
        "  <thead>\n",
        "    <tr style=\"text-align: right;\">\n",
        "      <th></th>\n",
        "      <th>available_versions</th>\n",
        "      <th>android.support.v4.widget.DrawerLayout_first_supported_version</th>\n",
        "      <th>support_this_feature</th>\n",
        "    </tr>\n",
        "    <tr>\n",
        "      <th>package</th>\n",
        "      <th></th>\n",
        "      <th></th>\n",
        "      <th></th>\n",
        "    </tr>\n",
        "  </thead>\n",
        "  <tbody>\n",
        "    <tr>\n",
        "      <th>Air.Lite</th>\n",
        "      <td> 2</td>\n",
        "      <td> NaN</td>\n",
        "      <td> False</td>\n",
        "    </tr>\n",
        "    <tr>\n",
        "      <th>Animaonline.FanFiction.Free</th>\n",
        "      <td> 2</td>\n",
        "      <td> NaN</td>\n",
        "      <td> False</td>\n",
        "    </tr>\n",
        "    <tr>\n",
        "      <th>AutomateIt.mainPackage</th>\n",
        "      <td> 2</td>\n",
        "      <td> NaN</td>\n",
        "      <td> False</td>\n",
        "    </tr>\n",
        "    <tr>\n",
        "      <th>B4A.Agroid_software</th>\n",
        "      <td> 3</td>\n",
        "      <td> NaN</td>\n",
        "      <td> False</td>\n",
        "    </tr>\n",
        "    <tr>\n",
        "      <th>B4A.BigFivePersonalityTest</th>\n",
        "      <td> 2</td>\n",
        "      <td> NaN</td>\n",
        "      <td> False</td>\n",
        "    </tr>\n",
        "  </tbody>\n",
        "</table>\n",
        "</div>"
       ],
       "metadata": {},
       "output_type": "pyout",
       "prompt_number": 203,
       "text": [
        "                            available_versions  \\\n",
        "package                                          \n",
        "Air.Lite                                     2   \n",
        "Animaonline.FanFiction.Free                  2   \n",
        "AutomateIt.mainPackage                       2   \n",
        "B4A.Agroid_software                          3   \n",
        "B4A.BigFivePersonalityTest                   2   \n",
        "\n",
        "                            android.support.v4.widget.DrawerLayout_first_supported_version  \\\n",
        "package                                                                                      \n",
        "Air.Lite                                                                   NaN               \n",
        "Animaonline.FanFiction.Free                                                NaN               \n",
        "AutomateIt.mainPackage                                                     NaN               \n",
        "B4A.Agroid_software                                                        NaN               \n",
        "B4A.BigFivePersonalityTest                                                 NaN               \n",
        "\n",
        "                            support_this_feature  \n",
        "package                                           \n",
        "Air.Lite                                   False  \n",
        "Animaonline.FanFiction.Free                False  \n",
        "AutomateIt.mainPackage                     False  \n",
        "B4A.Agroid_software                        False  \n",
        "B4A.BigFivePersonalityTest                 False  "
       ]
      }
     ],
     "prompt_number": 203
    },
    {
     "cell_type": "code",
     "collapsed": false,
     "input": [
      "arr = np.array(df_nav_drawer_use['support_this_feature'], dtype= bool) + 0\n",
      "tmp = df_nav_drawer_use\n",
      "try:\n",
      "    tmp.insert(0, 'binary_value', arr)\n",
      "except ValueError:\n",
      "    pass\n",
      "tmp.groupby('support_this_feature').count().plot(kind='pie', y='binary_value',\n",
      "                      autopct='%1.1f%%', title='Navigation Drawer Use',\n",
      "                      figsize=(4,4), colors=['r', 'g'], fontsize=20)\n",
      "print('Number of apps that used the Navigation Drawer: ' + \n",
      "      str(len(tmp.loc[tmp.support_this_feature == True])) +\n",
      "      ' out of ' + str(len(tmp)) + ' apps.')\n",
      "nav_drawer_total = len(tmp.loc[tmp.support_this_feature == True])"
     ],
     "language": "python",
     "metadata": {},
     "outputs": [
      {
       "output_type": "stream",
       "stream": "stdout",
       "text": [
        "Number of apps that used the Navigation Drawer: 1183 out of 24419 apps.\n"
       ]
      },
      {
       "metadata": {},
       "output_type": "display_data",
       "png": "[encoded data removed]",
       "text": [
        "<matplotlib.figure.Figure at 0x10e30a150>"
       ]
      }
     ],
     "prompt_number": 204
    },
    {
     "cell_type": "code",
     "collapsed": false,
     "input": [
      "h = HTML(\"<h2>How many apps introduced Navigation Drawer in any recent release?</h2>\"); h"
     ],
     "language": "python",
     "metadata": {},
     "outputs": [
      {
       "html": [
        "<h2>How many apps introduced Navigation Drawer in any recent release?</h2>"
       ],
       "metadata": {},
       "output_type": "pyout",
       "prompt_number": 209,
       "text": [
        "<IPython.core.display.HTML at 0x117358d90>"
       ]
      }
     ],
     "prompt_number": 209
    },
    {
     "cell_type": "code",
     "collapsed": false,
     "input": [
      "df_nav_drawer_introduced = find_introduced_in_any_release(df_nav_drawer, 'android.support.v4.widget.DrawerLayout')\n",
      "n = len(df_nav_drawer_introduced)\n",
      "p = '{percent:.1%}'.format(percent=n/nav_drawer_total)\n",
      "print(str(n) + \"(\" + p + \") apps\" )"
     ],
     "language": "python",
     "metadata": {},
     "outputs": [
      {
       "output_type": "stream",
       "stream": "stdout",
       "text": [
        "771(65.2%) apps\n"
       ]
      }
     ],
     "prompt_number": 210
    },
    {
     "cell_type": "code",
     "collapsed": false,
     "input": [
      "h = HTML(\"<h2>How many apps are using Navigation Drawer in their latest release?</h2>\"); h"
     ],
     "language": "python",
     "metadata": {},
     "outputs": [
      {
       "html": [
        "<h2>How many apps are using Navigation Drawer in their latest release?</h2>"
       ],
       "metadata": {},
       "output_type": "pyout",
       "prompt_number": 212,
       "text": [
        "<IPython.core.display.HTML at 0x10e196ed0>"
       ]
      }
     ],
     "prompt_number": 212
    },
    {
     "cell_type": "code",
     "collapsed": false,
     "input": [
      "df_nav_drawer_still_using = find_use_in_latest_release(df_nav_drawer, 'android.support.v4.widget.DrawerLayout')\n",
      "df_nav_drawer_still_using.head()"
     ],
     "language": "python",
     "metadata": {},
     "outputs": [
      {
       "html": [
        "<div style=\"max-height:1000px;max-width:1500px;overflow:auto;\">\n",
        "<table border=\"1\" class=\"dataframe\">\n",
        "  <thead>\n",
        "    <tr style=\"text-align: right;\">\n",
        "      <th></th>\n",
        "      <th>available_versions</th>\n",
        "      <th>android.support.v4.widget.DrawerLayout_use_in_latest_version</th>\n",
        "      <th>support_this_feature</th>\n",
        "    </tr>\n",
        "    <tr>\n",
        "      <th>package</th>\n",
        "      <th></th>\n",
        "      <th></th>\n",
        "      <th></th>\n",
        "    </tr>\n",
        "  </thead>\n",
        "  <tbody>\n",
        "    <tr>\n",
        "      <th>ConCalc.Activity</th>\n",
        "      <td> 2</td>\n",
        "      <td>      20</td>\n",
        "      <td> True</td>\n",
        "    </tr>\n",
        "    <tr>\n",
        "      <th>HinKhoj.Dictionary</th>\n",
        "      <td> 2</td>\n",
        "      <td>      60</td>\n",
        "      <td> True</td>\n",
        "    </tr>\n",
        "    <tr>\n",
        "      <th>Orion.Soft</th>\n",
        "      <td> 4</td>\n",
        "      <td>     429</td>\n",
        "      <td> True</td>\n",
        "    </tr>\n",
        "    <tr>\n",
        "      <th>air.WatchESPN</th>\n",
        "      <td> 3</td>\n",
        "      <td> 2100029</td>\n",
        "      <td> True</td>\n",
        "    </tr>\n",
        "    <tr>\n",
        "      <th>air.com.nbcuni.com.nbcsports.liveextra</th>\n",
        "      <td> 4</td>\n",
        "      <td> 3000020</td>\n",
        "      <td> True</td>\n",
        "    </tr>\n",
        "  </tbody>\n",
        "</table>\n",
        "</div>"
       ],
       "metadata": {},
       "output_type": "pyout",
       "prompt_number": 213,
       "text": [
        "                                       available_versions  \\\n",
        "package                                                     \n",
        "ConCalc.Activity                                        2   \n",
        "HinKhoj.Dictionary                                      2   \n",
        "Orion.Soft                                              4   \n",
        "air.WatchESPN                                           3   \n",
        "air.com.nbcuni.com.nbcsports.liveextra                  4   \n",
        "\n",
        "                                       android.support.v4.widget.DrawerLayout_use_in_latest_version  \\\n",
        "package                                                                                               \n",
        "ConCalc.Activity                                                                       20             \n",
        "HinKhoj.Dictionary                                                                     60             \n",
        "Orion.Soft                                                                            429             \n",
        "air.WatchESPN                                                                     2100029             \n",
        "air.com.nbcuni.com.nbcsports.liveextra                                            3000020             \n",
        "\n",
        "                                       support_this_feature  \n",
        "package                                                      \n",
        "ConCalc.Activity                                       True  \n",
        "HinKhoj.Dictionary                                     True  \n",
        "Orion.Soft                                             True  \n",
        "air.WatchESPN                                          True  \n",
        "air.com.nbcuni.com.nbcsports.liveextra                 True  "
       ]
      }
     ],
     "prompt_number": 213
    },
    {
     "cell_type": "code",
     "collapsed": false,
     "input": [
      "arr = np.array(df_nav_drawer_still_using['support_this_feature'], dtype= bool) + 0\n",
      "tmp = df_nav_drawer_still_using\n",
      "try:\n",
      "    tmp.insert(0, 'binary_value', arr)\n",
      "except ValueError:\n",
      "    pass\n",
      "tmp.groupby('support_this_feature').count().plot(kind='pie', y='binary_value',\n",
      "                      autopct='%1.1f%%', title='Navigation Drawer button Use in Latest release',\n",
      "                      figsize=(4,4), colors=['r', 'g'], fontsize=20)\n",
      "print('Number of apps that no longer use the Navigation Drawer button: ' + \n",
      "      str(len(tmp.loc[tmp.support_this_feature == False])) +\n",
      "      ' out of ' + str(len(tmp)) + ' apps.')"
     ],
     "language": "python",
     "metadata": {},
     "outputs": [
      {
       "output_type": "stream",
       "stream": "stdout",
       "text": [
        "Number of apps that no longer use the Navigation Drawer button: 37 out of 1183 apps.\n"
       ]
      },
      {
       "metadata": {},
       "output_type": "display_data",
       "png": "[encoded data removed]",
       "text": [
        "<matplotlib.figure.Figure at 0x116529c10>"
       ]
      }
     ],
     "prompt_number": 214
    },
    {
     "cell_type": "code",
     "collapsed": false,
     "input": [],
     "language": "python",
     "metadata": {},
     "outputs": []
    }
   ],
   "metadata": {}
  }
 ]
}